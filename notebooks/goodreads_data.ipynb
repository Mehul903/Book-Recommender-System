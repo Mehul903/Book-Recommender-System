{
 "cells": [
  {
   "cell_type": "markdown",
   "metadata": {},
   "source": [
    "### Collect data from goodreads.com:"
   ]
  },
  {
   "cell_type": "code",
   "execution_count": 1,
   "metadata": {
    "collapsed": true
   },
   "outputs": [],
   "source": [
    "from bs4 import BeautifulSoup as bs\n",
    "import pandas as pd\n",
    "import re\n",
    "import urllib\n",
    "import time"
   ]
  },
  {
   "cell_type": "code",
   "execution_count": 2,
   "metadata": {
    "collapsed": true
   },
   "outputs": [],
   "source": [
    "p1 = 'https://www.goodreads.com/list/show/11.Best_Crime_Mystery_Books?page='\n",
    "page_id = [str(n) for n in range(1,51)]"
   ]
  },
  {
   "cell_type": "code",
   "execution_count": 3,
   "metadata": {
    "collapsed": false,
    "scrolled": true
   },
   "outputs": [
    {
     "name": "stdout",
     "output_type": "stream",
     "text": [
      "page1\n",
      "page2\n",
      "page3\n",
      "page4\n",
      "page5\n",
      "page6\n",
      "page7\n",
      "page8\n",
      "page9\n",
      "page10\n",
      "page11\n",
      "page12\n",
      "page13\n",
      "page14\n",
      "page15\n",
      "page16\n",
      "page17\n",
      "page18\n",
      "page19\n",
      "page20\n",
      "page21\n",
      "page22\n",
      "page23\n",
      "page24\n",
      "page25\n",
      "page26\n",
      "page27\n",
      "page28\n",
      "page29\n",
      "page30\n",
      "page31\n",
      "page32\n",
      "page33\n",
      "page34\n",
      "page35\n",
      "page36\n",
      "page37\n",
      "page38\n",
      "page39\n",
      "page40\n",
      "page41\n",
      "page42\n",
      "page43\n",
      "page44\n",
      "page45\n",
      "page46\n",
      "page47\n",
      "page48\n",
      "page49\n",
      "page50\n"
     ]
    }
   ],
   "source": [
    "books_all = []  ## Store names of all the books from all the pages\n",
    "meta_ratings = [] ## Store ratings for all the books\n",
    "meta_votes = []  ## Store users' votes for all the books\n",
    "\n",
    "for i in page_id:\n",
    "    link = p1+i\n",
    "    print ('page'+str(i))\n",
    "    \n",
    "    page = urllib.request.urlopen(url = link)\n",
    "    soup = bs(page, 'lxml')\n",
    "    time.sleep(2)\n",
    "\n",
    "    ## Get book title:\n",
    "    book_titles = []\n",
    "    title = soup.find_all(name = 'a', class_ = 'bookTitle')\n",
    "    for t in title:\n",
    "        book_titles.append(t.span.text)\n",
    "  \n",
    "    ## Get metadata-1:\n",
    "    metadata_ratings = []\n",
    "    metadata = soup.find_all(name = 'span', class_ = 'minirating')\n",
    "    for meta in metadata:\n",
    "        metadata_ratings.append(meta.text.strip())\n",
    "\n",
    "    ## Get metadata-2:\n",
    "    metadata_score = []\n",
    "    metadata_votes = []\n",
    "    metadata_2 = soup.find_all(name = 'span', class_ = 'smallText uitext')\n",
    "    for meta in metadata_2:\n",
    "        temp = meta.text.strip('\\n')\n",
    "        score = temp.split('\\n')[0]\n",
    "        metadata_score.append(score)\n",
    "\n",
    "        num_votes = temp.split('\\n')[2]\n",
    "        metadata_votes.append(num_votes)        \n",
    "    \n",
    "    books_all.extend(book_titles)\n",
    "    meta_ratings.extend(metadata_ratings)\n",
    "    meta_votes.extend(metadata_votes)"
   ]
  },
  {
   "cell_type": "code",
   "execution_count": 4,
   "metadata": {
    "collapsed": false
   },
   "outputs": [
    {
     "name": "stdout",
     "output_type": "stream",
     "text": [
      "Total books getched: 5000\n",
      "Total ratings fetched: 5000\n",
      "Total votes fetched: 5000\n"
     ]
    }
   ],
   "source": [
    "print ('Total books getched:', len(books_all))\n",
    "print ('Total ratings fetched:', len(meta_ratings))\n",
    "print ('Total votes fetched:', len(meta_votes))"
   ]
  },
  {
   "cell_type": "markdown",
   "metadata": {},
   "source": [
    "### Data Post-processing:\n",
    "#### Extract and clean meta-data"
   ]
  },
  {
   "cell_type": "code",
   "execution_count": 5,
   "metadata": {
    "collapsed": true
   },
   "outputs": [],
   "source": [
    "## For ratings:\n",
    "avg_ratings = []\n",
    "total_ratings = []\n",
    "\n",
    "for rat in meta_ratings:\n",
    "    avg_ratings.append(re.findall('([0-9]+[.]+[0-9]+)', rat))\n",
    "    total_ratings.append(rat.split(' ')[-2])"
   ]
  },
  {
   "cell_type": "code",
   "execution_count": 6,
   "metadata": {
    "collapsed": true
   },
   "outputs": [],
   "source": [
    "## For votes:\n",
    "total_votes = []\n",
    "\n",
    "for vote in meta_votes:\n",
    "    total_votes.append(vote.split(' ')[0])"
   ]
  },
  {
   "cell_type": "code",
   "execution_count": 7,
   "metadata": {
    "collapsed": false
   },
   "outputs": [
    {
     "data": {
      "text/html": [
       "<div>\n",
       "<style>\n",
       "    .dataframe thead tr:only-child th {\n",
       "        text-align: right;\n",
       "    }\n",
       "\n",
       "    .dataframe thead th {\n",
       "        text-align: left;\n",
       "    }\n",
       "\n",
       "    .dataframe tbody tr th {\n",
       "        vertical-align: top;\n",
       "    }\n",
       "</style>\n",
       "<table border=\"1\" class=\"dataframe\">\n",
       "  <thead>\n",
       "    <tr style=\"text-align: right;\">\n",
       "      <th></th>\n",
       "      <th>Avg_Rating</th>\n",
       "      <th>Books</th>\n",
       "      <th>Total_Num_Ratings</th>\n",
       "      <th>Total_Num_Votes</th>\n",
       "    </tr>\n",
       "  </thead>\n",
       "  <tbody>\n",
       "    <tr>\n",
       "      <th>0</th>\n",
       "      <td>[4.12]</td>\n",
       "      <td>The Girl with the Dragon Tattoo (Millennium, #1)</td>\n",
       "      <td>2,028,253</td>\n",
       "      <td>2,818</td>\n",
       "    </tr>\n",
       "    <tr>\n",
       "      <th>1</th>\n",
       "      <td>[4.24]</td>\n",
       "      <td>And Then There Were None</td>\n",
       "      <td>500,620</td>\n",
       "      <td>2,077</td>\n",
       "    </tr>\n",
       "    <tr>\n",
       "      <th>2</th>\n",
       "      <td>[3.86]</td>\n",
       "      <td>Angels &amp; Demons  (Robert Langdon, #1)</td>\n",
       "      <td>2,166,178</td>\n",
       "      <td>1,334</td>\n",
       "    </tr>\n",
       "    <tr>\n",
       "      <th>3</th>\n",
       "      <td>[4.21]</td>\n",
       "      <td>Rebecca</td>\n",
       "      <td>342,140</td>\n",
       "      <td>939</td>\n",
       "    </tr>\n",
       "    <tr>\n",
       "      <th>4</th>\n",
       "      <td>[4.05]</td>\n",
       "      <td>In Cold Blood</td>\n",
       "      <td>416,759</td>\n",
       "      <td>765</td>\n",
       "    </tr>\n",
       "  </tbody>\n",
       "</table>\n",
       "</div>"
      ],
      "text/plain": [
       "  Avg_Rating                                             Books  \\\n",
       "0     [4.12]  The Girl with the Dragon Tattoo (Millennium, #1)   \n",
       "1     [4.24]                          And Then There Were None   \n",
       "2     [3.86]             Angels & Demons  (Robert Langdon, #1)   \n",
       "3     [4.21]                                           Rebecca   \n",
       "4     [4.05]                                     In Cold Blood   \n",
       "\n",
       "  Total_Num_Ratings Total_Num_Votes  \n",
       "0         2,028,253           2,818  \n",
       "1           500,620           2,077  \n",
       "2         2,166,178           1,334  \n",
       "3           342,140             939  \n",
       "4           416,759             765  "
      ]
     },
     "execution_count": 7,
     "metadata": {},
     "output_type": "execute_result"
    }
   ],
   "source": [
    "books_df = pd.DataFrame({'Books': books_all, 'Avg_Rating': avg_ratings, \n",
    "                          'Total_Num_Ratings': total_ratings, 'Total_Num_Votes': total_votes})\n",
    "\n",
    "books_df.head()"
   ]
  },
  {
   "cell_type": "code",
   "execution_count": 8,
   "metadata": {
    "collapsed": false
   },
   "outputs": [
    {
     "data": {
      "text/plain": [
       "(5000, 4)"
      ]
     },
     "execution_count": 8,
     "metadata": {},
     "output_type": "execute_result"
    }
   ],
   "source": [
    "books_df.shape"
   ]
  },
  {
   "cell_type": "code",
   "execution_count": 9,
   "metadata": {
    "collapsed": true
   },
   "outputs": [],
   "source": [
    "books_df.to_csv('books_df.csv', index=False)"
   ]
  },
  {
   "cell_type": "code",
   "execution_count": null,
   "metadata": {
    "collapsed": true
   },
   "outputs": [],
   "source": []
  }
 ],
 "metadata": {
  "kernelspec": {
   "display_name": "Python 3",
   "language": "python",
   "name": "python3"
  },
  "language_info": {
   "codemirror_mode": {
    "name": "ipython",
    "version": 3
   },
   "file_extension": ".py",
   "mimetype": "text/x-python",
   "name": "python",
   "nbconvert_exporter": "python",
   "pygments_lexer": "ipython3",
   "version": "3.6.0"
  }
 },
 "nbformat": 4,
 "nbformat_minor": 2
}
