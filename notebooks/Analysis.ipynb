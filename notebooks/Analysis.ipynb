{
 "cells": [
  {
   "cell_type": "code",
   "execution_count": 2,
   "metadata": {
    "collapsed": true,
    "scrolled": true
   },
   "outputs": [],
   "source": [
    "%load_ext autotime"
   ]
  },
  {
   "cell_type": "code",
   "execution_count": 52,
   "metadata": {
    "collapsed": true
   },
   "outputs": [],
   "source": [
    "%unload_ext autotime"
   ]
  },
  {
   "cell_type": "code",
   "execution_count": 1,
   "metadata": {},
   "outputs": [],
   "source": [
    "## Import required modules:\n",
    "import pandas as pd\n",
    "import numpy as np    \n",
    "import matplotlib.pyplot as plt\n",
    "\n",
    "from sklearn.metrics import mean_squared_error\n",
    "from sklearn.metrics.pairwise import cosine_similarity\n",
    "from scipy.sparse import csr_matrix"
   ]
  },
  {
   "cell_type": "markdown",
   "metadata": {},
   "source": [
    "## Data Post-processing:"
   ]
  },
  {
   "cell_type": "markdown",
   "metadata": {},
   "source": [
    "### Import reviews file (i.e. pre-processed amazon-book-reviews created by `reviews_preprocessing.ipynb` ):"
   ]
  },
  {
   "cell_type": "code",
   "execution_count": 2,
   "metadata": {},
   "outputs": [],
   "source": [
    "col_names = ['productID', 'title', 'price', 'userID', 'profileName', \n",
    "             'helpfulness', 'score', 'time', 'summary', 'text']\n",
    "books_amazon = pd.read_csv('E://MRP//0102/Books.csv', nrows = 10, encoding = 'utf-8', names=col_names)"
   ]
  },
  {
   "cell_type": "code",
   "execution_count": 3,
   "metadata": {
    "scrolled": true
   },
   "outputs": [
    {
     "data": {
      "text/html": [
       "<div>\n",
       "<style scoped>\n",
       "    .dataframe tbody tr th:only-of-type {\n",
       "        vertical-align: middle;\n",
       "    }\n",
       "\n",
       "    .dataframe tbody tr th {\n",
       "        vertical-align: top;\n",
       "    }\n",
       "\n",
       "    .dataframe thead th {\n",
       "        text-align: right;\n",
       "    }\n",
       "</style>\n",
       "<table border=\"1\" class=\"dataframe\">\n",
       "  <thead>\n",
       "    <tr style=\"text-align: right;\">\n",
       "      <th></th>\n",
       "      <th>productID</th>\n",
       "      <th>title</th>\n",
       "      <th>price</th>\n",
       "      <th>userID</th>\n",
       "      <th>profileName</th>\n",
       "      <th>helpfulness</th>\n",
       "      <th>score</th>\n",
       "      <th>time</th>\n",
       "      <th>summary</th>\n",
       "      <th>text</th>\n",
       "    </tr>\n",
       "  </thead>\n",
       "  <tbody>\n",
       "    <tr>\n",
       "      <th>0</th>\n",
       "      <td>1882931173</td>\n",
       "      <td>Its Only Art If Its Well Hung!</td>\n",
       "      <td>unknown</td>\n",
       "      <td>AVCGYZL8FQQTD</td>\n",
       "      <td>Jim of Oz \"jim-of-oz\"</td>\n",
       "      <td>7/7</td>\n",
       "      <td>4.0</td>\n",
       "      <td>940636800</td>\n",
       "      <td>Nice collection of Julie Strain images</td>\n",
       "      <td>This is only for Julie Strain fans. It's a co...</td>\n",
       "    </tr>\n",
       "    <tr>\n",
       "      <th>1</th>\n",
       "      <td>826414346</td>\n",
       "      <td>Dr. Seuss</td>\n",
       "      <td>unknown</td>\n",
       "      <td>A30TK6U7DNS82R</td>\n",
       "      <td>Kevin Killian</td>\n",
       "      <td>10/10</td>\n",
       "      <td>5.0</td>\n",
       "      <td>1095724800</td>\n",
       "      <td>Really Enjoyed It</td>\n",
       "      <td>I don't care much for Dr. Seuss but after rea...</td>\n",
       "    </tr>\n",
       "    <tr>\n",
       "      <th>2</th>\n",
       "      <td>826414346</td>\n",
       "      <td>Dr. Seuss</td>\n",
       "      <td>unknown</td>\n",
       "      <td>A3UH4UZ4RSVO82</td>\n",
       "      <td>John Granger</td>\n",
       "      <td>10/11</td>\n",
       "      <td>5.0</td>\n",
       "      <td>1078790400</td>\n",
       "      <td>Essential for every personal and Public Library</td>\n",
       "      <td>If people become the books they read and if \"...</td>\n",
       "    </tr>\n",
       "    <tr>\n",
       "      <th>3</th>\n",
       "      <td>826414346</td>\n",
       "      <td>Dr. Seuss</td>\n",
       "      <td>unknown</td>\n",
       "      <td>A2MVUWT453QH61</td>\n",
       "      <td>Roy E. Perry \"amateur philosopher\"</td>\n",
       "      <td>7/7</td>\n",
       "      <td>4.0</td>\n",
       "      <td>1090713600</td>\n",
       "      <td>Phlip Nel gives silly Seuss a serious treatment</td>\n",
       "      <td>Theodore Seuss Geisel (1904-1991), aka &amp;quot;...</td>\n",
       "    </tr>\n",
       "    <tr>\n",
       "      <th>4</th>\n",
       "      <td>826414346</td>\n",
       "      <td>Dr. Seuss</td>\n",
       "      <td>unknown</td>\n",
       "      <td>A22X4XUPKF66MR</td>\n",
       "      <td>D. H. Richards \"ninthwavestore\"</td>\n",
       "      <td>3/3</td>\n",
       "      <td>4.0</td>\n",
       "      <td>1107993600</td>\n",
       "      <td>Good academic overview</td>\n",
       "      <td>Philip Nel - Dr. Seuss</td>\n",
       "    </tr>\n",
       "    <tr>\n",
       "      <th>5</th>\n",
       "      <td>826414346</td>\n",
       "      <td>Dr. Seuss</td>\n",
       "      <td>unknown</td>\n",
       "      <td>A2F6NONFUDB6UK</td>\n",
       "      <td>Malvin</td>\n",
       "      <td>2/2</td>\n",
       "      <td>4.0</td>\n",
       "      <td>1127174400</td>\n",
       "      <td>One of America's greatest creative talents</td>\n",
       "      <td>\"Dr. Seuss</td>\n",
       "    </tr>\n",
       "    <tr>\n",
       "      <th>6</th>\n",
       "      <td>826414346</td>\n",
       "      <td>Dr. Seuss</td>\n",
       "      <td>unknown</td>\n",
       "      <td>A14OJS0VWMOSWO</td>\n",
       "      <td>Midwest Book Review</td>\n",
       "      <td>3/4</td>\n",
       "      <td>5.0</td>\n",
       "      <td>1100131200</td>\n",
       "      <td>A memorably excellent survey of Dr. Seuss' ma...</td>\n",
       "      <td>Theodor Seuss Giesel was best known as 'Dr. S...</td>\n",
       "    </tr>\n",
       "    <tr>\n",
       "      <th>7</th>\n",
       "      <td>826414346</td>\n",
       "      <td>Dr. Seuss</td>\n",
       "      <td>unknown</td>\n",
       "      <td>A2RSSXTDZDUSH4</td>\n",
       "      <td>J. Squire</td>\n",
       "      <td>0/0</td>\n",
       "      <td>5.0</td>\n",
       "      <td>1231200000</td>\n",
       "      <td>Academia At It's Best</td>\n",
       "      <td>When I recieved this book as a gift for Chris...</td>\n",
       "    </tr>\n",
       "    <tr>\n",
       "      <th>8</th>\n",
       "      <td>826414346</td>\n",
       "      <td>Dr. Seuss</td>\n",
       "      <td>unknown</td>\n",
       "      <td>A25MD5I2GUIW6W</td>\n",
       "      <td>J. P. HIGBED \"big fellow\"</td>\n",
       "      <td>0/0</td>\n",
       "      <td>5.0</td>\n",
       "      <td>1209859200</td>\n",
       "      <td>And to think that I read it on the tram!</td>\n",
       "      <td>Trams (or any public transport) are not usual...</td>\n",
       "    </tr>\n",
       "    <tr>\n",
       "      <th>9</th>\n",
       "      <td>826414346</td>\n",
       "      <td>Dr. Seuss</td>\n",
       "      <td>unknown</td>\n",
       "      <td>A3VA4XFS5WNJO3</td>\n",
       "      <td>Donald Burnside</td>\n",
       "      <td>3/5</td>\n",
       "      <td>4.0</td>\n",
       "      <td>1076371200</td>\n",
       "      <td>Fascinating account of a genius at work</td>\n",
       "      <td>As far as I am aware, this is the first book-...</td>\n",
       "    </tr>\n",
       "  </tbody>\n",
       "</table>\n",
       "</div>"
      ],
      "text/plain": [
       "    productID                            title     price           userID  \\\n",
       "0  1882931173   Its Only Art If Its Well Hung!   unknown    AVCGYZL8FQQTD   \n",
       "1   826414346                        Dr. Seuss   unknown   A30TK6U7DNS82R   \n",
       "2   826414346                        Dr. Seuss   unknown   A3UH4UZ4RSVO82   \n",
       "3   826414346                        Dr. Seuss   unknown   A2MVUWT453QH61   \n",
       "4   826414346                        Dr. Seuss   unknown   A22X4XUPKF66MR   \n",
       "5   826414346                        Dr. Seuss   unknown   A2F6NONFUDB6UK   \n",
       "6   826414346                        Dr. Seuss   unknown   A14OJS0VWMOSWO   \n",
       "7   826414346                        Dr. Seuss   unknown   A2RSSXTDZDUSH4   \n",
       "8   826414346                        Dr. Seuss   unknown   A25MD5I2GUIW6W   \n",
       "9   826414346                        Dr. Seuss   unknown   A3VA4XFS5WNJO3   \n",
       "\n",
       "                           profileName helpfulness  score        time  \\\n",
       "0                Jim of Oz \"jim-of-oz\"         7/7    4.0   940636800   \n",
       "1                        Kevin Killian       10/10    5.0  1095724800   \n",
       "2                         John Granger       10/11    5.0  1078790400   \n",
       "3   Roy E. Perry \"amateur philosopher\"         7/7    4.0  1090713600   \n",
       "4      D. H. Richards \"ninthwavestore\"         3/3    4.0  1107993600   \n",
       "5                               Malvin         2/2    4.0  1127174400   \n",
       "6                  Midwest Book Review         3/4    5.0  1100131200   \n",
       "7                            J. Squire         0/0    5.0  1231200000   \n",
       "8            J. P. HIGBED \"big fellow\"         0/0    5.0  1209859200   \n",
       "9                      Donald Burnside         3/5    4.0  1076371200   \n",
       "\n",
       "                                             summary  \\\n",
       "0             Nice collection of Julie Strain images   \n",
       "1                                  Really Enjoyed It   \n",
       "2    Essential for every personal and Public Library   \n",
       "3    Phlip Nel gives silly Seuss a serious treatment   \n",
       "4                             Good academic overview   \n",
       "5         One of America's greatest creative talents   \n",
       "6   A memorably excellent survey of Dr. Seuss' ma...   \n",
       "7                              Academia At It's Best   \n",
       "8           And to think that I read it on the tram!   \n",
       "9            Fascinating account of a genius at work   \n",
       "\n",
       "                                                text  \n",
       "0   This is only for Julie Strain fans. It's a co...  \n",
       "1   I don't care much for Dr. Seuss but after rea...  \n",
       "2   If people become the books they read and if \"...  \n",
       "3   Theodore Seuss Geisel (1904-1991), aka &quot;...  \n",
       "4                             Philip Nel - Dr. Seuss  \n",
       "5                                         \"Dr. Seuss  \n",
       "6   Theodor Seuss Giesel was best known as 'Dr. S...  \n",
       "7   When I recieved this book as a gift for Chris...  \n",
       "8   Trams (or any public transport) are not usual...  \n",
       "9   As far as I am aware, this is the first book-...  "
      ]
     },
     "execution_count": 3,
     "metadata": {},
     "output_type": "execute_result"
    }
   ],
   "source": [
    "books_amazon"
   ]
  },
  {
   "cell_type": "code",
   "execution_count": 4,
   "metadata": {
    "scrolled": true
   },
   "outputs": [],
   "source": [
    "## Get all the book-names from Amaozn-data (later this list will be used to find crime-mystery books):\n",
    "book_names = []\n",
    "i = 0\n",
    "with open ('E://MRP//0102/Books.csv') as books:\n",
    "    for line in books:\n",
    "        book_names.append(line.split(',')[1])"
   ]
  },
  {
   "cell_type": "code",
   "execution_count": 5,
   "metadata": {},
   "outputs": [
    {
     "data": {
      "text/plain": [
       "752526"
      ]
     },
     "execution_count": 5,
     "metadata": {},
     "output_type": "execute_result"
    }
   ],
   "source": [
    "## Total unique books:\n",
    "len(set(book_names))"
   ]
  },
  {
   "cell_type": "markdown",
   "metadata": {},
   "source": [
    "## Clean the book-names:"
   ]
  },
  {
   "cell_type": "code",
   "execution_count": 6,
   "metadata": {},
   "outputs": [],
   "source": [
    "unique_books = list(set(book_names))\n",
    "unique_books = [book.strip().lower() for book in unique_books]\n",
    "unique_books.sort()"
   ]
  },
  {
   "cell_type": "markdown",
   "metadata": {},
   "source": [
    "### Import goodreads file (i.e. data collected from `goodreads_data.ipynb`):"
   ]
  },
  {
   "cell_type": "code",
   "execution_count": 7,
   "metadata": {
    "scrolled": true
   },
   "outputs": [
    {
     "data": {
      "text/html": [
       "<div>\n",
       "<style scoped>\n",
       "    .dataframe tbody tr th:only-of-type {\n",
       "        vertical-align: middle;\n",
       "    }\n",
       "\n",
       "    .dataframe tbody tr th {\n",
       "        vertical-align: top;\n",
       "    }\n",
       "\n",
       "    .dataframe thead th {\n",
       "        text-align: right;\n",
       "    }\n",
       "</style>\n",
       "<table border=\"1\" class=\"dataframe\">\n",
       "  <thead>\n",
       "    <tr style=\"text-align: right;\">\n",
       "      <th></th>\n",
       "      <th>Avg_Rating</th>\n",
       "      <th>Books</th>\n",
       "      <th>Total_Num_Ratings</th>\n",
       "      <th>Total_Num_Votes</th>\n",
       "    </tr>\n",
       "  </thead>\n",
       "  <tbody>\n",
       "    <tr>\n",
       "      <th>0</th>\n",
       "      <td>4.12</td>\n",
       "      <td>the girl with the dragon tattoo (millennium, #1)</td>\n",
       "      <td>2028253</td>\n",
       "      <td>2818</td>\n",
       "    </tr>\n",
       "    <tr>\n",
       "      <th>1</th>\n",
       "      <td>4.24</td>\n",
       "      <td>and then there were none</td>\n",
       "      <td>500620</td>\n",
       "      <td>2077</td>\n",
       "    </tr>\n",
       "    <tr>\n",
       "      <th>2</th>\n",
       "      <td>3.86</td>\n",
       "      <td>angels &amp; demons  (robert langdon, #1)</td>\n",
       "      <td>2166178</td>\n",
       "      <td>1334</td>\n",
       "    </tr>\n",
       "    <tr>\n",
       "      <th>3</th>\n",
       "      <td>4.21</td>\n",
       "      <td>rebecca</td>\n",
       "      <td>342140</td>\n",
       "      <td>939</td>\n",
       "    </tr>\n",
       "    <tr>\n",
       "      <th>4</th>\n",
       "      <td>4.05</td>\n",
       "      <td>in cold blood</td>\n",
       "      <td>416759</td>\n",
       "      <td>765</td>\n",
       "    </tr>\n",
       "  </tbody>\n",
       "</table>\n",
       "</div>"
      ],
      "text/plain": [
       "   Avg_Rating                                             Books  \\\n",
       "0        4.12  the girl with the dragon tattoo (millennium, #1)   \n",
       "1        4.24                          and then there were none   \n",
       "2        3.86             angels & demons  (robert langdon, #1)   \n",
       "3        4.21                                           rebecca   \n",
       "4        4.05                                     in cold blood   \n",
       "\n",
       "   Total_Num_Ratings  Total_Num_Votes  \n",
       "0            2028253             2818  \n",
       "1             500620             2077  \n",
       "2            2166178             1334  \n",
       "3             342140              939  \n",
       "4             416759              765  "
      ]
     },
     "execution_count": 7,
     "metadata": {},
     "output_type": "execute_result"
    }
   ],
   "source": [
    "books_goodreads = pd.read_csv('E:/MRP/0331/Book-Recommender-System/data/books_df.csv', encoding = 'latin1')\n",
    "\n",
    "books_goodreads['Books'] = [book.strip().lower() for book in books_goodreads['Books']]\n",
    "books_goodreads['Total_Num_Ratings'] = [int(rating.replace(',','')) for rating in books_goodreads['Total_Num_Ratings']]\n",
    "books_goodreads['Total_Num_Votes'] = [int(vote.replace(',','')) for vote in books_goodreads['Total_Num_Votes']]\n",
    "books_goodreads['Avg_Rating'] = [float(rating.strip(\"['']\")) for rating in books_goodreads['Avg_Rating']]\n",
    "\n",
    "books_goodreads.head()"
   ]
  },
  {
   "cell_type": "markdown",
   "metadata": {},
   "source": [
    "### Found matches for only 1200 books out of 5000:"
   ]
  },
  {
   "cell_type": "code",
   "execution_count": 8,
   "metadata": {},
   "outputs": [
    {
     "name": "stdout",
     "output_type": "stream",
     "text": [
      "1200\n"
     ]
    },
    {
     "data": {
      "text/plain": [
       "['ripper',\n",
       " \"pudd'nhead wilson\",\n",
       " 'true crime',\n",
       " 'vanished',\n",
       " 'catch a falling knife',\n",
       " 'the meaning of night',\n",
       " 'girl with a pearl earring',\n",
       " 'tomato red',\n",
       " 'layer cake',\n",
       " 'room']"
      ]
     },
     "execution_count": 8,
     "metadata": {},
     "output_type": "execute_result"
    }
   ],
   "source": [
    "common_books = list(set(unique_books) & set(books_goodreads['Books']))\n",
    "print (len(common_books))\n",
    "common_books[0:10]"
   ]
  },
  {
   "cell_type": "markdown",
   "metadata": {},
   "source": [
    "### Start building a recommendation system:"
   ]
  },
  {
   "cell_type": "markdown",
   "metadata": {},
   "source": [
    "#### Efficient but incomplete method!"
   ]
  },
  {
   "cell_type": "code",
   "execution_count": 204,
   "metadata": {
    "scrolled": true
   },
   "outputs": [
    {
     "name": "stdout",
     "output_type": "stream",
     "text": [
      " 1882931173, Its Only Art If Its Well Hung!, unknown, AVCGYZL8FQQTD,\" Jim of Oz \"\"jim-of-oz\"\"\", 7/7, 4.0, 940636800, Nice collection of Julie Strain images,\" This is only for Julie Strain fans. It's a collection of her photos -- about 80 pages worth with a nice section of paintings by Olivia.If you're looking for heavy literary content, this isn't the place to find it -- there's only about 2 pages with text and everything else is photos.Bottom line\"\n",
      "\n",
      " 0826414346, Dr. Seuss, unknown, A30TK6U7DNS82R, Kevin Killian, 10/10, 5.0, 1095724800, Really Enjoyed It,\" I don't care much for Dr. Seuss but after reading Philip Nel's book I changed my mind--that's a good testimonial to the power of Rel's writing and thinking. Rel plays Dr. Seuss the ultimate compliment of treating him as a serious poet as well as one of the 20th century's most interesting visual artists, and after reading his book I decided that a trip to the Mandeville Collections of the library at University of California in San Diego was in order, so I could visit some of the incredible Seuss/Geisel holdings they have there.There's almost too much to take in, for, like William Butler Yeats, Seuss led a career that constantly shifted and metamoprhized itself to meet new historical and political cirsumstances, so he seems to have been both a leftist and a conservative at different junctures of his career, both in politics and in art. As Nel shows us, he was once a cartoonist for the fabled PM magazine and, like Andy Warhol, he served his time slaving in the ad business too. All was in the service of amusing and broadening the minds of US children. Nel doesn't hesitate to administer a sound spanking to the Seuss industry that, since his death, has seen fit to license all kinds of awful products including the recent CAT IN THE HAT film with Mike Myers. Oh, what a cat-astrophe!The book is great and I can especially recommend the work of the picture editor who has given us a bounty of good illustrations.\"\n",
      "\n",
      " 0826414346, Dr. Seuss, unknown, A3UH4UZ4RSVO82, John Granger, 10/11, 5.0, 1078790400, Essential for every personal and Public Library,\" If people become the books they read and if \"\"the child is father to the man,\"\" then Dr. Seuss (Theodor Seuss Geisel) is the most influential author, poet, and artist of modern times. For me, a daddy to a large family who learned to read with Dr. Seuss and who has memorized too many of the books via repeated readings to young children, Prof. Nel's brilliant 'American Icon' is a long awaited treat. At last a serious treatment of this remarkable genius that is both an engaging read and filled with remarkable insights! I especially enjoyed (and learned more than I care to admit from) Prof. Nel's discussions of the Disneyfication of Seuss - which Nel links to failings in American copyright law, \"\"the other sides of Dr. Seuss\"\" - all of which sides were new to me, and the political genesis of his secular morality in the WWII cartoon work he did at PM magazine. The chapters on Geisel's poetry and artwork and the link Nel makes between Seuss and the historical avant guarde alone make this book a \"\"must buy\"\" for parents and serious readers, not to mention public libraries. Readers of Nel's other books will find the same engaging writing style that makes the book a fun read while imparting a mountain of information and important ideas. This is simply the best and most comprehensive book yet written on the work of Seuss Geisel and what will certainly be the standard for many years to come. Thank you, Prof. Nel, wherever you are, from a reader who grew up with the good doctor and who is growing up with him again years later. Your book, written from your encyclopeadic knowledge of children's literature and the media of this genre - from scanning verse to cubist painting! - explains the power, limits, and popularity of the Seuss phenomenon.\"\n",
      "\n",
      " 0826414346, Dr. Seuss, unknown, A2MVUWT453QH61,\" Roy E. Perry \"\"amateur philosopher\"\"\", 7/7, 4.0, 1090713600, Phlip Nel gives silly Seuss a serious treatment,\" Theodore Seuss Geisel (1904-1991), aka &quot;Dr. Seuss,&quot; was one of the most influential writers and artists of the 20th century.In 1959, Rudolf Flesch wrote, &quot;A hundred years from now, children and their parents will still eagerly read the books of a fellow called Ted Geisel, popularly known as Dr. Seuss.&quot;Flesch was too conservative in his prediction. A century, and more, from today, Dr. Seuss will still be read when many authors on today's bestseller lists will be forgotten.Published on the centenary of Geisel's birth, Dr. Seuss\"\n",
      "\n",
      " 0826414346, Dr. Seuss, unknown, A22X4XUPKF66MR,\" D. H. Richards \"\"ninthwavestore\"\"\", 3/3, 4.0, 1107993600, Good academic overview, Philip Nel - Dr. Seuss\n",
      "\n",
      "time: 5.02 ms\n"
     ]
    }
   ],
   "source": [
    "temp_book = ['Dr. Seuss', 'Its Only Art If Its Well Hung!']\n",
    "# temp_books = set(common_books)\n",
    "\n",
    "list_df = []\n",
    "with open ('E://MRP//0102//Books.csv') as books:\n",
    "    for i in range(5):\n",
    "        line = books.readline()\n",
    "        book = line.split(',')[1].strip()\n",
    "        \n",
    "        if book in temp_book:\n",
    "            list_df.append(line)"
   ]
  },
  {
   "cell_type": "markdown",
   "metadata": {},
   "source": [
    "#### Quick fix for incomplete-method:"
   ]
  },
  {
   "cell_type": "code",
   "execution_count": 9,
   "metadata": {},
   "outputs": [
    {
     "data": {
      "text/html": [
       "<div>\n",
       "<style scoped>\n",
       "    .dataframe tbody tr th:only-of-type {\n",
       "        vertical-align: middle;\n",
       "    }\n",
       "\n",
       "    .dataframe tbody tr th {\n",
       "        vertical-align: top;\n",
       "    }\n",
       "\n",
       "    .dataframe thead th {\n",
       "        text-align: right;\n",
       "    }\n",
       "</style>\n",
       "<table border=\"1\" class=\"dataframe\">\n",
       "  <thead>\n",
       "    <tr style=\"text-align: right;\">\n",
       "      <th></th>\n",
       "      <th>BookID</th>\n",
       "      <th>BookTitle</th>\n",
       "      <th>UserID</th>\n",
       "      <th>Score</th>\n",
       "    </tr>\n",
       "  </thead>\n",
       "  <tbody>\n",
       "    <tr>\n",
       "      <th>0</th>\n",
       "      <td>1882931173</td>\n",
       "      <td>its only art if its well hung!</td>\n",
       "      <td>AVCGYZL8FQQTD</td>\n",
       "      <td>4.0</td>\n",
       "    </tr>\n",
       "    <tr>\n",
       "      <th>1</th>\n",
       "      <td>0826414346</td>\n",
       "      <td>dr. seuss</td>\n",
       "      <td>A30TK6U7DNS82R</td>\n",
       "      <td>5.0</td>\n",
       "    </tr>\n",
       "    <tr>\n",
       "      <th>2</th>\n",
       "      <td>0826414346</td>\n",
       "      <td>dr. seuss</td>\n",
       "      <td>A3UH4UZ4RSVO82</td>\n",
       "      <td>5.0</td>\n",
       "    </tr>\n",
       "    <tr>\n",
       "      <th>3</th>\n",
       "      <td>0826414346</td>\n",
       "      <td>dr. seuss</td>\n",
       "      <td>A2MVUWT453QH61</td>\n",
       "      <td>4.0</td>\n",
       "    </tr>\n",
       "    <tr>\n",
       "      <th>4</th>\n",
       "      <td>0826414346</td>\n",
       "      <td>dr. seuss</td>\n",
       "      <td>A22X4XUPKF66MR</td>\n",
       "      <td>4.0</td>\n",
       "    </tr>\n",
       "  </tbody>\n",
       "</table>\n",
       "</div>"
      ],
      "text/plain": [
       "        BookID                       BookTitle           UserID  Score\n",
       "0   1882931173  its only art if its well hung!    AVCGYZL8FQQTD    4.0\n",
       "1   0826414346                       dr. seuss   A30TK6U7DNS82R    5.0\n",
       "2   0826414346                       dr. seuss   A3UH4UZ4RSVO82    5.0\n",
       "3   0826414346                       dr. seuss   A2MVUWT453QH61    4.0\n",
       "4   0826414346                       dr. seuss   A22X4XUPKF66MR    4.0"
      ]
     },
     "execution_count": 9,
     "metadata": {},
     "output_type": "execute_result"
    }
   ],
   "source": [
    "## Load only required columns to avoid memory-issues:\n",
    "books_amazon_whole = pd.read_csv('E://MRP//0102/Books.csv', encoding = 'utf-8', header=None, usecols=[0,1,3,6])\n",
    "new_cols = ['BookID', 'BookTitle', 'UserID', 'Score']\n",
    "books_amazon_whole.columns = new_cols\n",
    "books_amazon_whole['BookTitle'] = [title.strip().lower() for title in books_amazon_whole['BookTitle']]\n",
    "books_amazon_whole.head()"
   ]
  },
  {
   "cell_type": "code",
   "execution_count": 10,
   "metadata": {},
   "outputs": [
    {
     "data": {
      "text/html": [
       "<div>\n",
       "<style scoped>\n",
       "    .dataframe tbody tr th:only-of-type {\n",
       "        vertical-align: middle;\n",
       "    }\n",
       "\n",
       "    .dataframe tbody tr th {\n",
       "        vertical-align: top;\n",
       "    }\n",
       "\n",
       "    .dataframe thead th {\n",
       "        text-align: right;\n",
       "    }\n",
       "</style>\n",
       "<table border=\"1\" class=\"dataframe\">\n",
       "  <thead>\n",
       "    <tr style=\"text-align: right;\">\n",
       "      <th></th>\n",
       "      <th>BookID</th>\n",
       "      <th>BookTitle</th>\n",
       "      <th>UserID</th>\n",
       "      <th>Score</th>\n",
       "    </tr>\n",
       "  </thead>\n",
       "  <tbody>\n",
       "    <tr>\n",
       "      <th>6099</th>\n",
       "      <td>B000OX8HJO</td>\n",
       "      <td>trust no one</td>\n",
       "      <td>A3KKFG3TA9IO8X</td>\n",
       "      <td>5.0</td>\n",
       "    </tr>\n",
       "    <tr>\n",
       "      <th>8349</th>\n",
       "      <td>1563331586</td>\n",
       "      <td>chains</td>\n",
       "      <td>A3EX36SNRYD5VL</td>\n",
       "      <td>3.0</td>\n",
       "    </tr>\n",
       "    <tr>\n",
       "      <th>11895</th>\n",
       "      <td>B000N1ZWS6</td>\n",
       "      <td>a study in scarlet and the sign of four</td>\n",
       "      <td>A3MV1KKHX51FYT</td>\n",
       "      <td>5.0</td>\n",
       "    </tr>\n",
       "    <tr>\n",
       "      <th>12730</th>\n",
       "      <td>0451210530</td>\n",
       "      <td>a rip in heaven</td>\n",
       "      <td>A1IMO4Q54CHVH5</td>\n",
       "      <td>4.0</td>\n",
       "    </tr>\n",
       "    <tr>\n",
       "      <th>12731</th>\n",
       "      <td>0451210530</td>\n",
       "      <td>a rip in heaven</td>\n",
       "      <td>A24VKWUKXWBWLV</td>\n",
       "      <td>3.0</td>\n",
       "    </tr>\n",
       "  </tbody>\n",
       "</table>\n",
       "</div>"
      ],
      "text/plain": [
       "            BookID                                BookTitle           UserID  \\\n",
       "6099    B000OX8HJO                             trust no one   A3KKFG3TA9IO8X   \n",
       "8349    1563331586                                   chains   A3EX36SNRYD5VL   \n",
       "11895   B000N1ZWS6  a study in scarlet and the sign of four   A3MV1KKHX51FYT   \n",
       "12730   0451210530                          a rip in heaven   A1IMO4Q54CHVH5   \n",
       "12731   0451210530                          a rip in heaven   A24VKWUKXWBWLV   \n",
       "\n",
       "       Score  \n",
       "6099     5.0  \n",
       "8349     3.0  \n",
       "11895    5.0  \n",
       "12730    4.0  \n",
       "12731    3.0  "
      ]
     },
     "execution_count": 10,
     "metadata": {},
     "output_type": "execute_result"
    }
   ],
   "source": [
    "## Subset the previous data-frame to keep records for only crime-mystery books:\n",
    "books_amazon_whole = books_amazon_whole[books_amazon_whole['BookTitle'].isin(common_books)]\n",
    "books_amazon_whole.head()"
   ]
  },
  {
   "cell_type": "code",
   "execution_count": 11,
   "metadata": {},
   "outputs": [
    {
     "data": {
      "text/plain": [
       "101864"
      ]
     },
     "execution_count": 11,
     "metadata": {},
     "output_type": "execute_result"
    }
   ],
   "source": [
    "## Unique users\n",
    "len(set(books_amazon_whole['UserID']))"
   ]
  },
  {
   "cell_type": "code",
   "execution_count": 12,
   "metadata": {
    "scrolled": false
   },
   "outputs": [
    {
     "name": "stderr",
     "output_type": "stream",
     "text": [
      "C:\\Users\\ref-patron\\AppData\\Local\\Continuum\\anaconda3\\lib\\site-packages\\matplotlib\\axes\\_axes.py:6462: UserWarning: The 'normed' kwarg is deprecated, and has been replaced by the 'density' kwarg.\n",
      "  warnings.warn(\"The 'normed' kwarg is deprecated, and has been \"\n"
     ]
    },
    {
     "data": {
      "image/png": "[encoded data removed]",
      "text/plain": [
       "<Figure size 1008x504 with 2 Axes>"
      ]
     },
     "metadata": {},
     "output_type": "display_data"
    }
   ],
   "source": [
    "amazon_rating = pd.DataFrame(books_amazon_whole.groupby(by = 'BookTitle').mean()).reset_index(drop = False)\n",
    "\n",
    "fig, (ax1, ax2) = plt.subplots(figsize= (14,7), ncols = 2, sharey = True)\n",
    "ax1.hist(amazon_rating['Score'], bins = [1,2,3,4,5], normed = True)\n",
    "ax1.set_xlabel('Average Rating', fontsize = 15)\n",
    "ax1.set_ylabel('Frequency (Normalized)', fontsize = 15)\n",
    "ax1.set_title('Distribution of Average Rating \\n (Amazon)', fontsize = 20)\n",
    "\n",
    "ax2.hist(books_goodreads['Avg_Rating'], bins = [1,2,3,4,5], normed = True)\n",
    "ax2.set_xlabel('Average Rating', fontsize = 15)\n",
    "# ax2.set_ylabel('Frequency (Normalized)', fontsize = 15)\n",
    "ax2.set_title('Distribution of Average Rating \\n (Goodreads)', fontsize = 20)\n",
    "\n",
    "plt.show()"
   ]
  },
  {
   "cell_type": "code",
   "execution_count": 13,
   "metadata": {
    "scrolled": true
   },
   "outputs": [],
   "source": [
    "## Consider users who rated >1 books. Two reasons: 1) Expect to get better results; 2) Speeds-up calculation and easy to manage.\n",
    "filter_users = pd.DataFrame(books_amazon_whole.groupby(by = 'UserID').size(), columns = ['count'])\n",
    "filter_users = filter_users.loc[filter_users['count'] > 1]\n",
    "filter_users.reset_index(drop = False, inplace = True)\n",
    "\n",
    "filter_users = filter_users[filter_users['UserID'] != ' unknown']  ## Remove unknown user-ID which has given 949 ratings\n",
    "filter_users = books_amazon_whole.loc[books_amazon_whole['UserID'].isin(filter_users['UserID'])]"
   ]
  },
  {
   "cell_type": "code",
   "execution_count": 14,
   "metadata": {},
   "outputs": [
    {
     "data": {
      "text/plain": [
       "58991"
      ]
     },
     "execution_count": 14,
     "metadata": {},
     "output_type": "execute_result"
    }
   ],
   "source": [
    "## Unique users who rated more than 1 books\n",
    "len(set(filter_users['UserID']))"
   ]
  },
  {
   "cell_type": "code",
   "execution_count": 15,
   "metadata": {},
   "outputs": [
    {
     "data": {
      "text/html": [
       "<div>\n",
       "<style scoped>\n",
       "    .dataframe tbody tr th:only-of-type {\n",
       "        vertical-align: middle;\n",
       "    }\n",
       "\n",
       "    .dataframe tbody tr th {\n",
       "        vertical-align: top;\n",
       "    }\n",
       "\n",
       "    .dataframe thead th {\n",
       "        text-align: right;\n",
       "    }\n",
       "</style>\n",
       "<table border=\"1\" class=\"dataframe\">\n",
       "  <thead>\n",
       "    <tr style=\"text-align: right;\">\n",
       "      <th></th>\n",
       "      <th>BookID</th>\n",
       "      <th>BookTitle</th>\n",
       "      <th>UserID</th>\n",
       "      <th>Score</th>\n",
       "    </tr>\n",
       "  </thead>\n",
       "  <tbody>\n",
       "    <tr>\n",
       "      <th>8349</th>\n",
       "      <td>1563331586</td>\n",
       "      <td>chains</td>\n",
       "      <td>A3EX36SNRYD5VL</td>\n",
       "      <td>3.0</td>\n",
       "    </tr>\n",
       "    <tr>\n",
       "      <th>11895</th>\n",
       "      <td>B000N1ZWS6</td>\n",
       "      <td>a study in scarlet and the sign of four</td>\n",
       "      <td>A3MV1KKHX51FYT</td>\n",
       "      <td>5.0</td>\n",
       "    </tr>\n",
       "    <tr>\n",
       "      <th>12730</th>\n",
       "      <td>0451210530</td>\n",
       "      <td>a rip in heaven</td>\n",
       "      <td>A1IMO4Q54CHVH5</td>\n",
       "      <td>4.0</td>\n",
       "    </tr>\n",
       "    <tr>\n",
       "      <th>12731</th>\n",
       "      <td>0451210530</td>\n",
       "      <td>a rip in heaven</td>\n",
       "      <td>A24VKWUKXWBWLV</td>\n",
       "      <td>3.0</td>\n",
       "    </tr>\n",
       "    <tr>\n",
       "      <th>12734</th>\n",
       "      <td>0451210530</td>\n",
       "      <td>a rip in heaven</td>\n",
       "      <td>A325JING4PW8FE</td>\n",
       "      <td>3.0</td>\n",
       "    </tr>\n",
       "  </tbody>\n",
       "</table>\n",
       "</div>"
      ],
      "text/plain": [
       "            BookID                                BookTitle           UserID  \\\n",
       "8349    1563331586                                   chains   A3EX36SNRYD5VL   \n",
       "11895   B000N1ZWS6  a study in scarlet and the sign of four   A3MV1KKHX51FYT   \n",
       "12730   0451210530                          a rip in heaven   A1IMO4Q54CHVH5   \n",
       "12731   0451210530                          a rip in heaven   A24VKWUKXWBWLV   \n",
       "12734   0451210530                          a rip in heaven   A325JING4PW8FE   \n",
       "\n",
       "       Score  \n",
       "8349     3.0  \n",
       "11895    5.0  \n",
       "12730    4.0  \n",
       "12731    3.0  \n",
       "12734    3.0  "
      ]
     },
     "execution_count": 15,
     "metadata": {},
     "output_type": "execute_result"
    }
   ],
   "source": [
    "filter_users.head()"
   ]
  },
  {
   "cell_type": "code",
   "execution_count": 16,
   "metadata": {},
   "outputs": [
    {
     "data": {
      "text/html": [
       "<div>\n",
       "<style scoped>\n",
       "    .dataframe tbody tr th:only-of-type {\n",
       "        vertical-align: middle;\n",
       "    }\n",
       "\n",
       "    .dataframe tbody tr th {\n",
       "        vertical-align: top;\n",
       "    }\n",
       "\n",
       "    .dataframe thead th {\n",
       "        text-align: right;\n",
       "    }\n",
       "</style>\n",
       "<table border=\"1\" class=\"dataframe\">\n",
       "  <thead>\n",
       "    <tr style=\"text-align: right;\">\n",
       "      <th>BookTitle</th>\n",
       "      <th>13 for luck</th>\n",
       "      <th>24 hours</th>\n",
       "      <th>a cast of killers</th>\n",
       "      <th>a clockwork orange</th>\n",
       "      <th>a coffin for dimitrios</th>\n",
       "      <th>a cry in the night</th>\n",
       "      <th>a dark-adapted eye</th>\n",
       "      <th>a demon in my view</th>\n",
       "      <th>a discount for death</th>\n",
       "      <th>a dram of poison</th>\n",
       "      <th>...</th>\n",
       "      <th>widow's web</th>\n",
       "      <th>wildfire at midnight</th>\n",
       "      <th>windmills of the gods</th>\n",
       "      <th>windy city blues</th>\n",
       "      <th>wired</th>\n",
       "      <th>with murderous intent</th>\n",
       "      <th>woman on the run</th>\n",
       "      <th>worm</th>\n",
       "      <th>yellow-dog contract</th>\n",
       "      <th>you belong to me</th>\n",
       "    </tr>\n",
       "    <tr>\n",
       "      <th>UserID</th>\n",
       "      <th></th>\n",
       "      <th></th>\n",
       "      <th></th>\n",
       "      <th></th>\n",
       "      <th></th>\n",
       "      <th></th>\n",
       "      <th></th>\n",
       "      <th></th>\n",
       "      <th></th>\n",
       "      <th></th>\n",
       "      <th></th>\n",
       "      <th></th>\n",
       "      <th></th>\n",
       "      <th></th>\n",
       "      <th></th>\n",
       "      <th></th>\n",
       "      <th></th>\n",
       "      <th></th>\n",
       "      <th></th>\n",
       "      <th></th>\n",
       "      <th></th>\n",
       "    </tr>\n",
       "  </thead>\n",
       "  <tbody>\n",
       "    <tr>\n",
       "      <th>A00540411RKGTDNU543WS</th>\n",
       "      <td>NaN</td>\n",
       "      <td>NaN</td>\n",
       "      <td>NaN</td>\n",
       "      <td>NaN</td>\n",
       "      <td>NaN</td>\n",
       "      <td>NaN</td>\n",
       "      <td>NaN</td>\n",
       "      <td>NaN</td>\n",
       "      <td>NaN</td>\n",
       "      <td>NaN</td>\n",
       "      <td>...</td>\n",
       "      <td>NaN</td>\n",
       "      <td>NaN</td>\n",
       "      <td>NaN</td>\n",
       "      <td>NaN</td>\n",
       "      <td>NaN</td>\n",
       "      <td>NaN</td>\n",
       "      <td>NaN</td>\n",
       "      <td>NaN</td>\n",
       "      <td>NaN</td>\n",
       "      <td>NaN</td>\n",
       "    </tr>\n",
       "    <tr>\n",
       "      <th>A00878773S2MNB00COHKV</th>\n",
       "      <td>NaN</td>\n",
       "      <td>NaN</td>\n",
       "      <td>NaN</td>\n",
       "      <td>NaN</td>\n",
       "      <td>NaN</td>\n",
       "      <td>NaN</td>\n",
       "      <td>NaN</td>\n",
       "      <td>NaN</td>\n",
       "      <td>NaN</td>\n",
       "      <td>NaN</td>\n",
       "      <td>...</td>\n",
       "      <td>NaN</td>\n",
       "      <td>NaN</td>\n",
       "      <td>NaN</td>\n",
       "      <td>NaN</td>\n",
       "      <td>NaN</td>\n",
       "      <td>NaN</td>\n",
       "      <td>NaN</td>\n",
       "      <td>NaN</td>\n",
       "      <td>NaN</td>\n",
       "      <td>NaN</td>\n",
       "    </tr>\n",
       "    <tr>\n",
       "      <th>A0134066213WYQXLTVGYT</th>\n",
       "      <td>NaN</td>\n",
       "      <td>NaN</td>\n",
       "      <td>NaN</td>\n",
       "      <td>NaN</td>\n",
       "      <td>NaN</td>\n",
       "      <td>NaN</td>\n",
       "      <td>NaN</td>\n",
       "      <td>NaN</td>\n",
       "      <td>NaN</td>\n",
       "      <td>NaN</td>\n",
       "      <td>...</td>\n",
       "      <td>NaN</td>\n",
       "      <td>NaN</td>\n",
       "      <td>NaN</td>\n",
       "      <td>NaN</td>\n",
       "      <td>NaN</td>\n",
       "      <td>NaN</td>\n",
       "      <td>NaN</td>\n",
       "      <td>NaN</td>\n",
       "      <td>NaN</td>\n",
       "      <td>NaN</td>\n",
       "    </tr>\n",
       "    <tr>\n",
       "      <th>A01487226AT9QN55VGVV</th>\n",
       "      <td>NaN</td>\n",
       "      <td>NaN</td>\n",
       "      <td>NaN</td>\n",
       "      <td>NaN</td>\n",
       "      <td>NaN</td>\n",
       "      <td>NaN</td>\n",
       "      <td>NaN</td>\n",
       "      <td>NaN</td>\n",
       "      <td>NaN</td>\n",
       "      <td>NaN</td>\n",
       "      <td>...</td>\n",
       "      <td>NaN</td>\n",
       "      <td>NaN</td>\n",
       "      <td>NaN</td>\n",
       "      <td>NaN</td>\n",
       "      <td>NaN</td>\n",
       "      <td>NaN</td>\n",
       "      <td>NaN</td>\n",
       "      <td>NaN</td>\n",
       "      <td>NaN</td>\n",
       "      <td>NaN</td>\n",
       "    </tr>\n",
       "    <tr>\n",
       "      <th>A0160198NNRLD37TTP2P</th>\n",
       "      <td>NaN</td>\n",
       "      <td>NaN</td>\n",
       "      <td>NaN</td>\n",
       "      <td>NaN</td>\n",
       "      <td>NaN</td>\n",
       "      <td>NaN</td>\n",
       "      <td>NaN</td>\n",
       "      <td>NaN</td>\n",
       "      <td>NaN</td>\n",
       "      <td>NaN</td>\n",
       "      <td>...</td>\n",
       "      <td>NaN</td>\n",
       "      <td>NaN</td>\n",
       "      <td>NaN</td>\n",
       "      <td>NaN</td>\n",
       "      <td>NaN</td>\n",
       "      <td>NaN</td>\n",
       "      <td>NaN</td>\n",
       "      <td>NaN</td>\n",
       "      <td>NaN</td>\n",
       "      <td>NaN</td>\n",
       "    </tr>\n",
       "  </tbody>\n",
       "</table>\n",
       "<p>5 rows × 1128 columns</p>\n",
       "</div>"
      ],
      "text/plain": [
       "BookTitle               13 for luck  24 hours  a cast of killers  \\\n",
       "UserID                                                             \n",
       " A00540411RKGTDNU543WS          NaN       NaN                NaN   \n",
       " A00878773S2MNB00COHKV          NaN       NaN                NaN   \n",
       " A0134066213WYQXLTVGYT          NaN       NaN                NaN   \n",
       " A01487226AT9QN55VGVV           NaN       NaN                NaN   \n",
       " A0160198NNRLD37TTP2P           NaN       NaN                NaN   \n",
       "\n",
       "BookTitle               a clockwork orange  a coffin for dimitrios  \\\n",
       "UserID                                                               \n",
       " A00540411RKGTDNU543WS                 NaN                     NaN   \n",
       " A00878773S2MNB00COHKV                 NaN                     NaN   \n",
       " A0134066213WYQXLTVGYT                 NaN                     NaN   \n",
       " A01487226AT9QN55VGVV                  NaN                     NaN   \n",
       " A0160198NNRLD37TTP2P                  NaN                     NaN   \n",
       "\n",
       "BookTitle               a cry in the night  a dark-adapted eye  \\\n",
       "UserID                                                           \n",
       " A00540411RKGTDNU543WS                 NaN                 NaN   \n",
       " A00878773S2MNB00COHKV                 NaN                 NaN   \n",
       " A0134066213WYQXLTVGYT                 NaN                 NaN   \n",
       " A01487226AT9QN55VGVV                  NaN                 NaN   \n",
       " A0160198NNRLD37TTP2P                  NaN                 NaN   \n",
       "\n",
       "BookTitle               a demon in my view  a discount for death  \\\n",
       "UserID                                                             \n",
       " A00540411RKGTDNU543WS                 NaN                   NaN   \n",
       " A00878773S2MNB00COHKV                 NaN                   NaN   \n",
       " A0134066213WYQXLTVGYT                 NaN                   NaN   \n",
       " A01487226AT9QN55VGVV                  NaN                   NaN   \n",
       " A0160198NNRLD37TTP2P                  NaN                   NaN   \n",
       "\n",
       "BookTitle               a dram of poison        ...         widow's web  \\\n",
       "UserID                                          ...                       \n",
       " A00540411RKGTDNU543WS               NaN        ...                 NaN   \n",
       " A00878773S2MNB00COHKV               NaN        ...                 NaN   \n",
       " A0134066213WYQXLTVGYT               NaN        ...                 NaN   \n",
       " A01487226AT9QN55VGVV                NaN        ...                 NaN   \n",
       " A0160198NNRLD37TTP2P                NaN        ...                 NaN   \n",
       "\n",
       "BookTitle               wildfire at midnight  windmills of the gods  \\\n",
       "UserID                                                                \n",
       " A00540411RKGTDNU543WS                   NaN                    NaN   \n",
       " A00878773S2MNB00COHKV                   NaN                    NaN   \n",
       " A0134066213WYQXLTVGYT                   NaN                    NaN   \n",
       " A01487226AT9QN55VGVV                    NaN                    NaN   \n",
       " A0160198NNRLD37TTP2P                    NaN                    NaN   \n",
       "\n",
       "BookTitle               windy city blues  wired  with murderous intent  \\\n",
       "UserID                                                                   \n",
       " A00540411RKGTDNU543WS               NaN    NaN                    NaN   \n",
       " A00878773S2MNB00COHKV               NaN    NaN                    NaN   \n",
       " A0134066213WYQXLTVGYT               NaN    NaN                    NaN   \n",
       " A01487226AT9QN55VGVV                NaN    NaN                    NaN   \n",
       " A0160198NNRLD37TTP2P                NaN    NaN                    NaN   \n",
       "\n",
       "BookTitle               woman on the run  worm  yellow-dog contract  \\\n",
       "UserID                                                                \n",
       " A00540411RKGTDNU543WS               NaN   NaN                  NaN   \n",
       " A00878773S2MNB00COHKV               NaN   NaN                  NaN   \n",
       " A0134066213WYQXLTVGYT               NaN   NaN                  NaN   \n",
       " A01487226AT9QN55VGVV                NaN   NaN                  NaN   \n",
       " A0160198NNRLD37TTP2P                NaN   NaN                  NaN   \n",
       "\n",
       "BookTitle               you belong to me  \n",
       "UserID                                    \n",
       " A00540411RKGTDNU543WS               NaN  \n",
       " A00878773S2MNB00COHKV               NaN  \n",
       " A0134066213WYQXLTVGYT               NaN  \n",
       " A01487226AT9QN55VGVV                NaN  \n",
       " A0160198NNRLD37TTP2P                NaN  \n",
       "\n",
       "[5 rows x 1128 columns]"
      ]
     },
     "execution_count": 16,
     "metadata": {},
     "output_type": "execute_result"
    }
   ],
   "source": [
    "# books_amazon_whole.drop_duplicates(subset = ['BookTitle', 'UserID'], inplace = True)\n",
    "user_item_df = pd.pivot_table(data = filter_users, index = 'UserID', columns = 'BookTitle', values = 'Score')\n",
    "user_item_df.head()"
   ]
  },
  {
   "cell_type": "code",
   "execution_count": 17,
   "metadata": {},
   "outputs": [
    {
     "data": {
      "text/html": [
       "<div>\n",
       "<style scoped>\n",
       "    .dataframe tbody tr th:only-of-type {\n",
       "        vertical-align: middle;\n",
       "    }\n",
       "\n",
       "    .dataframe tbody tr th {\n",
       "        vertical-align: top;\n",
       "    }\n",
       "\n",
       "    .dataframe thead th {\n",
       "        text-align: right;\n",
       "    }\n",
       "</style>\n",
       "<table border=\"1\" class=\"dataframe\">\n",
       "  <thead>\n",
       "    <tr style=\"text-align: right;\">\n",
       "      <th>BookTitle</th>\n",
       "      <th>13 for luck</th>\n",
       "      <th>24 hours</th>\n",
       "      <th>a cast of killers</th>\n",
       "      <th>a clockwork orange</th>\n",
       "      <th>a coffin for dimitrios</th>\n",
       "      <th>a cry in the night</th>\n",
       "      <th>a dark-adapted eye</th>\n",
       "      <th>a demon in my view</th>\n",
       "      <th>a discount for death</th>\n",
       "      <th>a dram of poison</th>\n",
       "      <th>...</th>\n",
       "      <th>widow's web</th>\n",
       "      <th>wildfire at midnight</th>\n",
       "      <th>windmills of the gods</th>\n",
       "      <th>windy city blues</th>\n",
       "      <th>wired</th>\n",
       "      <th>with murderous intent</th>\n",
       "      <th>woman on the run</th>\n",
       "      <th>worm</th>\n",
       "      <th>yellow-dog contract</th>\n",
       "      <th>you belong to me</th>\n",
       "    </tr>\n",
       "    <tr>\n",
       "      <th>UserID</th>\n",
       "      <th></th>\n",
       "      <th></th>\n",
       "      <th></th>\n",
       "      <th></th>\n",
       "      <th></th>\n",
       "      <th></th>\n",
       "      <th></th>\n",
       "      <th></th>\n",
       "      <th></th>\n",
       "      <th></th>\n",
       "      <th></th>\n",
       "      <th></th>\n",
       "      <th></th>\n",
       "      <th></th>\n",
       "      <th></th>\n",
       "      <th></th>\n",
       "      <th></th>\n",
       "      <th></th>\n",
       "      <th></th>\n",
       "      <th></th>\n",
       "      <th></th>\n",
       "    </tr>\n",
       "  </thead>\n",
       "  <tbody>\n",
       "    <tr>\n",
       "      <th>A00540411RKGTDNU543WS</th>\n",
       "      <td>0.0</td>\n",
       "      <td>0.0</td>\n",
       "      <td>0.0</td>\n",
       "      <td>0.0</td>\n",
       "      <td>0.0</td>\n",
       "      <td>0.0</td>\n",
       "      <td>0.0</td>\n",
       "      <td>0.0</td>\n",
       "      <td>0.0</td>\n",
       "      <td>0.0</td>\n",
       "      <td>...</td>\n",
       "      <td>0.0</td>\n",
       "      <td>0.0</td>\n",
       "      <td>0.0</td>\n",
       "      <td>0.0</td>\n",
       "      <td>0.0</td>\n",
       "      <td>0.0</td>\n",
       "      <td>0.0</td>\n",
       "      <td>0.0</td>\n",
       "      <td>0.0</td>\n",
       "      <td>0.0</td>\n",
       "    </tr>\n",
       "    <tr>\n",
       "      <th>A00878773S2MNB00COHKV</th>\n",
       "      <td>0.0</td>\n",
       "      <td>0.0</td>\n",
       "      <td>0.0</td>\n",
       "      <td>0.0</td>\n",
       "      <td>0.0</td>\n",
       "      <td>0.0</td>\n",
       "      <td>0.0</td>\n",
       "      <td>0.0</td>\n",
       "      <td>0.0</td>\n",
       "      <td>0.0</td>\n",
       "      <td>...</td>\n",
       "      <td>0.0</td>\n",
       "      <td>0.0</td>\n",
       "      <td>0.0</td>\n",
       "      <td>0.0</td>\n",
       "      <td>0.0</td>\n",
       "      <td>0.0</td>\n",
       "      <td>0.0</td>\n",
       "      <td>0.0</td>\n",
       "      <td>0.0</td>\n",
       "      <td>0.0</td>\n",
       "    </tr>\n",
       "    <tr>\n",
       "      <th>A0134066213WYQXLTVGYT</th>\n",
       "      <td>0.0</td>\n",
       "      <td>0.0</td>\n",
       "      <td>0.0</td>\n",
       "      <td>0.0</td>\n",
       "      <td>0.0</td>\n",
       "      <td>0.0</td>\n",
       "      <td>0.0</td>\n",
       "      <td>0.0</td>\n",
       "      <td>0.0</td>\n",
       "      <td>0.0</td>\n",
       "      <td>...</td>\n",
       "      <td>0.0</td>\n",
       "      <td>0.0</td>\n",
       "      <td>0.0</td>\n",
       "      <td>0.0</td>\n",
       "      <td>0.0</td>\n",
       "      <td>0.0</td>\n",
       "      <td>0.0</td>\n",
       "      <td>0.0</td>\n",
       "      <td>0.0</td>\n",
       "      <td>0.0</td>\n",
       "    </tr>\n",
       "    <tr>\n",
       "      <th>A01487226AT9QN55VGVV</th>\n",
       "      <td>0.0</td>\n",
       "      <td>0.0</td>\n",
       "      <td>0.0</td>\n",
       "      <td>0.0</td>\n",
       "      <td>0.0</td>\n",
       "      <td>0.0</td>\n",
       "      <td>0.0</td>\n",
       "      <td>0.0</td>\n",
       "      <td>0.0</td>\n",
       "      <td>0.0</td>\n",
       "      <td>...</td>\n",
       "      <td>0.0</td>\n",
       "      <td>0.0</td>\n",
       "      <td>0.0</td>\n",
       "      <td>0.0</td>\n",
       "      <td>0.0</td>\n",
       "      <td>0.0</td>\n",
       "      <td>0.0</td>\n",
       "      <td>0.0</td>\n",
       "      <td>0.0</td>\n",
       "      <td>0.0</td>\n",
       "    </tr>\n",
       "    <tr>\n",
       "      <th>A0160198NNRLD37TTP2P</th>\n",
       "      <td>0.0</td>\n",
       "      <td>0.0</td>\n",
       "      <td>0.0</td>\n",
       "      <td>0.0</td>\n",
       "      <td>0.0</td>\n",
       "      <td>0.0</td>\n",
       "      <td>0.0</td>\n",
       "      <td>0.0</td>\n",
       "      <td>0.0</td>\n",
       "      <td>0.0</td>\n",
       "      <td>...</td>\n",
       "      <td>0.0</td>\n",
       "      <td>0.0</td>\n",
       "      <td>0.0</td>\n",
       "      <td>0.0</td>\n",
       "      <td>0.0</td>\n",
       "      <td>0.0</td>\n",
       "      <td>0.0</td>\n",
       "      <td>0.0</td>\n",
       "      <td>0.0</td>\n",
       "      <td>0.0</td>\n",
       "    </tr>\n",
       "  </tbody>\n",
       "</table>\n",
       "<p>5 rows × 1128 columns</p>\n",
       "</div>"
      ],
      "text/plain": [
       "BookTitle               13 for luck  24 hours  a cast of killers  \\\n",
       "UserID                                                             \n",
       " A00540411RKGTDNU543WS          0.0       0.0                0.0   \n",
       " A00878773S2MNB00COHKV          0.0       0.0                0.0   \n",
       " A0134066213WYQXLTVGYT          0.0       0.0                0.0   \n",
       " A01487226AT9QN55VGVV           0.0       0.0                0.0   \n",
       " A0160198NNRLD37TTP2P           0.0       0.0                0.0   \n",
       "\n",
       "BookTitle               a clockwork orange  a coffin for dimitrios  \\\n",
       "UserID                                                               \n",
       " A00540411RKGTDNU543WS                 0.0                     0.0   \n",
       " A00878773S2MNB00COHKV                 0.0                     0.0   \n",
       " A0134066213WYQXLTVGYT                 0.0                     0.0   \n",
       " A01487226AT9QN55VGVV                  0.0                     0.0   \n",
       " A0160198NNRLD37TTP2P                  0.0                     0.0   \n",
       "\n",
       "BookTitle               a cry in the night  a dark-adapted eye  \\\n",
       "UserID                                                           \n",
       " A00540411RKGTDNU543WS                 0.0                 0.0   \n",
       " A00878773S2MNB00COHKV                 0.0                 0.0   \n",
       " A0134066213WYQXLTVGYT                 0.0                 0.0   \n",
       " A01487226AT9QN55VGVV                  0.0                 0.0   \n",
       " A0160198NNRLD37TTP2P                  0.0                 0.0   \n",
       "\n",
       "BookTitle               a demon in my view  a discount for death  \\\n",
       "UserID                                                             \n",
       " A00540411RKGTDNU543WS                 0.0                   0.0   \n",
       " A00878773S2MNB00COHKV                 0.0                   0.0   \n",
       " A0134066213WYQXLTVGYT                 0.0                   0.0   \n",
       " A01487226AT9QN55VGVV                  0.0                   0.0   \n",
       " A0160198NNRLD37TTP2P                  0.0                   0.0   \n",
       "\n",
       "BookTitle               a dram of poison        ...         widow's web  \\\n",
       "UserID                                          ...                       \n",
       " A00540411RKGTDNU543WS               0.0        ...                 0.0   \n",
       " A00878773S2MNB00COHKV               0.0        ...                 0.0   \n",
       " A0134066213WYQXLTVGYT               0.0        ...                 0.0   \n",
       " A01487226AT9QN55VGVV                0.0        ...                 0.0   \n",
       " A0160198NNRLD37TTP2P                0.0        ...                 0.0   \n",
       "\n",
       "BookTitle               wildfire at midnight  windmills of the gods  \\\n",
       "UserID                                                                \n",
       " A00540411RKGTDNU543WS                   0.0                    0.0   \n",
       " A00878773S2MNB00COHKV                   0.0                    0.0   \n",
       " A0134066213WYQXLTVGYT                   0.0                    0.0   \n",
       " A01487226AT9QN55VGVV                    0.0                    0.0   \n",
       " A0160198NNRLD37TTP2P                    0.0                    0.0   \n",
       "\n",
       "BookTitle               windy city blues  wired  with murderous intent  \\\n",
       "UserID                                                                   \n",
       " A00540411RKGTDNU543WS               0.0    0.0                    0.0   \n",
       " A00878773S2MNB00COHKV               0.0    0.0                    0.0   \n",
       " A0134066213WYQXLTVGYT               0.0    0.0                    0.0   \n",
       " A01487226AT9QN55VGVV                0.0    0.0                    0.0   \n",
       " A0160198NNRLD37TTP2P                0.0    0.0                    0.0   \n",
       "\n",
       "BookTitle               woman on the run  worm  yellow-dog contract  \\\n",
       "UserID                                                                \n",
       " A00540411RKGTDNU543WS               0.0   0.0                  0.0   \n",
       " A00878773S2MNB00COHKV               0.0   0.0                  0.0   \n",
       " A0134066213WYQXLTVGYT               0.0   0.0                  0.0   \n",
       " A01487226AT9QN55VGVV                0.0   0.0                  0.0   \n",
       " A0160198NNRLD37TTP2P                0.0   0.0                  0.0   \n",
       "\n",
       "BookTitle               you belong to me  \n",
       "UserID                                    \n",
       " A00540411RKGTDNU543WS               0.0  \n",
       " A00878773S2MNB00COHKV               0.0  \n",
       " A0134066213WYQXLTVGYT               0.0  \n",
       " A01487226AT9QN55VGVV                0.0  \n",
       " A0160198NNRLD37TTP2P                0.0  \n",
       "\n",
       "[5 rows x 1128 columns]"
      ]
     },
     "execution_count": 17,
     "metadata": {},
     "output_type": "execute_result"
    }
   ],
   "source": [
    "## Fill NAs with 0 and get the new list of book-titles:\n",
    "user_item_df.fillna(0, inplace=True)\n",
    "new_book_names = user_item_df.columns\n",
    "user_item_df.head()"
   ]
  },
  {
   "cell_type": "code",
   "execution_count": 18,
   "metadata": {},
   "outputs": [
    {
     "data": {
      "text/plain": [
       "(58991, 1128)"
      ]
     },
     "execution_count": 18,
     "metadata": {},
     "output_type": "execute_result"
    }
   ],
   "source": [
    "user_item_df.shape"
   ]
  },
  {
   "cell_type": "code",
   "execution_count": 19,
   "metadata": {},
   "outputs": [
    {
     "data": {
      "text/plain": [
       "[(0, ' A00540411RKGTDNU543WS'),\n",
       " (1, ' A00878773S2MNB00COHKV'),\n",
       " (2, ' A0134066213WYQXLTVGYT'),\n",
       " (3, ' A01487226AT9QN55VGVV'),\n",
       " (4, ' A0160198NNRLD37TTP2P'),\n",
       " (5, ' A018164216EMFRPKKUUN'),\n",
       " (6, ' A02052513V2AZPE5GHB3R'),\n",
       " (7, ' A02660181QI9HHAVFK06O'),\n",
       " (8, ' A03355352UQGJRUSZECK9'),\n",
       " (9, ' A03816223LL3Q1P48HRU')]"
      ]
     },
     "execution_count": 19,
     "metadata": {},
     "output_type": "execute_result"
    }
   ],
   "source": [
    "true_user_id = list(enumerate(user_item_df.index))\n",
    "true_user_id[0:10]"
   ]
  },
  {
   "cell_type": "code",
   "execution_count": 20,
   "metadata": {},
   "outputs": [
    {
     "data": {
      "text/html": [
       "<div>\n",
       "<style scoped>\n",
       "    .dataframe tbody tr th:only-of-type {\n",
       "        vertical-align: middle;\n",
       "    }\n",
       "\n",
       "    .dataframe tbody tr th {\n",
       "        vertical-align: top;\n",
       "    }\n",
       "\n",
       "    .dataframe thead th {\n",
       "        text-align: right;\n",
       "    }\n",
       "</style>\n",
       "<table border=\"1\" class=\"dataframe\">\n",
       "  <thead>\n",
       "    <tr style=\"text-align: right;\">\n",
       "      <th></th>\n",
       "      <th>A0134066213WYQXLTVGYT</th>\n",
       "    </tr>\n",
       "    <tr>\n",
       "      <th>BookTitle</th>\n",
       "      <th></th>\n",
       "    </tr>\n",
       "  </thead>\n",
       "  <tbody>\n",
       "    <tr>\n",
       "      <th>awakening</th>\n",
       "      <td>5.0</td>\n",
       "    </tr>\n",
       "    <tr>\n",
       "      <th>public secrets</th>\n",
       "      <td>5.0</td>\n",
       "    </tr>\n",
       "  </tbody>\n",
       "</table>\n",
       "</div>"
      ],
      "text/plain": [
       "                 A0134066213WYQXLTVGYT\n",
       "BookTitle                             \n",
       "awakening                          5.0\n",
       "public secrets                     5.0"
      ]
     },
     "execution_count": 20,
     "metadata": {},
     "output_type": "execute_result"
    }
   ],
   "source": [
    "## Test mapping of user-ids:\n",
    "user_0 = pd.DataFrame(user_item_df.loc[' A0134066213WYQXLTVGYT'])\n",
    "user_0[user_0[' A0134066213WYQXLTVGYT'] > 0]"
   ]
  },
  {
   "cell_type": "markdown",
   "metadata": {},
   "source": [
    "### In practise, the user-item matrices are very sparse. Following two plots help in understanding the sparsity of the data in this case.\n",
    "\n",
    "### Ratings per user (i.e. number of books rated by a user) is very less. Most users rated only 1 book. So, user-user model may not result in a good recommendation system."
   ]
  },
  {
   "cell_type": "code",
   "execution_count": 21,
   "metadata": {},
   "outputs": [],
   "source": [
    "user_data = [np.count_nonzero(user_item_df.iloc[i,:]) for i in range(user_item_df.shape[0])]\n",
    "book_data = [np.count_nonzero(user_item_df.iloc[:,i]) for i in range(user_item_df.shape[1])]"
   ]
  },
  {
   "cell_type": "code",
   "execution_count": 22,
   "metadata": {
    "scrolled": true
   },
   "outputs": [
    {
     "data": {
      "image/png": "[encoded data removed]",
      "text/plain": [
       "<Figure size 1008x432 with 2 Axes>"
      ]
     },
     "metadata": {},
     "output_type": "display_data"
    }
   ],
   "source": [
    "fig, (ax1, ax2) = plt.subplots(nrows = 1, ncols = 2, figsize = (14,6))\n",
    "ax1.hist(user_data, bins = range(0,15,1))\n",
    "ax2.hist(book_data, bins = range(0, 2000,50))\n",
    "\n",
    "ax1.set_title('Distribution of User-Ratings', fontsize = 15)\n",
    "ax2.set_title('Distribution of Book-Ratings', fontsize = 15)\n",
    "\n",
    "ax1.set_xlabel('#Books rated by user', fontsize = 15)\n",
    "ax2.set_xlabel('#Ratings each book received', fontsize = 15)\n",
    "\n",
    "ax1.set_ylabel('#Users', fontsize = 15)\n",
    "ax2.set_ylabel('#Books', fontsize = 15)\n",
    "\n",
    "plt.show()"
   ]
  },
  {
   "cell_type": "markdown",
   "metadata": {},
   "source": [
    "### Item-item recommendation system:"
   ]
  },
  {
   "cell_type": "code",
   "execution_count": 23,
   "metadata": {},
   "outputs": [
    {
     "data": {
      "text/plain": [
       "<58991x1128 sparse matrix of type '<class 'numpy.float64'>'\n",
       "\twith 98220 stored elements in Compressed Sparse Row format>"
      ]
     },
     "execution_count": 23,
     "metadata": {},
     "output_type": "execute_result"
    }
   ],
   "source": [
    "user_item_mat = csr_matrix(user_item_df)\n",
    "user_item_mat"
   ]
  },
  {
   "cell_type": "code",
   "execution_count": 78,
   "metadata": {
    "collapsed": true
   },
   "outputs": [],
   "source": [
    "# def get_dense_users(row):\n",
    "#     if np.count_nonzero(user_item_mat[row,:].toarray()) > 1:\n",
    "#         return row        \n",
    "    \n",
    "# subset_matrix_ind = [get_dense_users(row) for row in range(user_item_mat.shape[0])]"
   ]
  },
  {
   "cell_type": "code",
   "execution_count": 24,
   "metadata": {},
   "outputs": [
    {
     "data": {
      "text/plain": [
       "(1128, 1128)"
      ]
     },
     "execution_count": 24,
     "metadata": {},
     "output_type": "execute_result"
    }
   ],
   "source": [
    "book_similarity_mat = cosine_similarity(user_item_mat.transpose(), dense_output = False)\n",
    "book_similarity_mat = book_similarity_mat.toarray()\n",
    "book_similarity_mat.shape"
   ]
  },
  {
   "cell_type": "markdown",
   "metadata": {},
   "source": [
    "### Make recommendations (item-item similarity based on user-ratings):"
   ]
  },
  {
   "cell_type": "code",
   "execution_count": 25,
   "metadata": {
    "scrolled": true
   },
   "outputs": [
    {
     "name": "stdout",
     "output_type": "stream",
     "text": [
      "Target book:  my dark places\n"
     ]
    },
    {
     "data": {
      "text/html": [
       "<div>\n",
       "<style scoped>\n",
       "    .dataframe tbody tr th:only-of-type {\n",
       "        vertical-align: middle;\n",
       "    }\n",
       "\n",
       "    .dataframe tbody tr th {\n",
       "        vertical-align: top;\n",
       "    }\n",
       "\n",
       "    .dataframe thead th {\n",
       "        text-align: right;\n",
       "    }\n",
       "</style>\n",
       "<table border=\"1\" class=\"dataframe\">\n",
       "  <thead>\n",
       "    <tr style=\"text-align: right;\">\n",
       "      <th></th>\n",
       "      <th>BookIndex</th>\n",
       "      <th>BookTitle</th>\n",
       "    </tr>\n",
       "  </thead>\n",
       "  <tbody>\n",
       "    <tr>\n",
       "      <th>0</th>\n",
       "      <td>483</td>\n",
       "      <td>my dark places</td>\n",
       "    </tr>\n",
       "    <tr>\n",
       "      <th>1</th>\n",
       "      <td>61</td>\n",
       "      <td>an inspector calls</td>\n",
       "    </tr>\n",
       "    <tr>\n",
       "      <th>2</th>\n",
       "      <td>883</td>\n",
       "      <td>the mammoth book of true crime</td>\n",
       "    </tr>\n",
       "    <tr>\n",
       "      <th>3</th>\n",
       "      <td>533</td>\n",
       "      <td>people of the book</td>\n",
       "    </tr>\n",
       "    <tr>\n",
       "      <th>4</th>\n",
       "      <td>735</td>\n",
       "      <td>the cleansing</td>\n",
       "    </tr>\n",
       "    <tr>\n",
       "      <th>5</th>\n",
       "      <td>727</td>\n",
       "      <td>the chinatown death cloud peril</td>\n",
       "    </tr>\n",
       "    <tr>\n",
       "      <th>6</th>\n",
       "      <td>1036</td>\n",
       "      <td>the wycherly woman</td>\n",
       "    </tr>\n",
       "    <tr>\n",
       "      <th>7</th>\n",
       "      <td>275</td>\n",
       "      <td>faithful unto death</td>\n",
       "    </tr>\n",
       "    <tr>\n",
       "      <th>8</th>\n",
       "      <td>201</td>\n",
       "      <td>dead weight</td>\n",
       "    </tr>\n",
       "    <tr>\n",
       "      <th>9</th>\n",
       "      <td>804</td>\n",
       "      <td>the fan</td>\n",
       "    </tr>\n",
       "    <tr>\n",
       "      <th>10</th>\n",
       "      <td>378</td>\n",
       "      <td>invisible</td>\n",
       "    </tr>\n",
       "    <tr>\n",
       "      <th>11</th>\n",
       "      <td>1037</td>\n",
       "      <td>the yellow room</td>\n",
       "    </tr>\n",
       "    <tr>\n",
       "      <th>12</th>\n",
       "      <td>2</td>\n",
       "      <td>a cast of killers</td>\n",
       "    </tr>\n",
       "    <tr>\n",
       "      <th>13</th>\n",
       "      <td>1012</td>\n",
       "      <td>the throat</td>\n",
       "    </tr>\n",
       "    <tr>\n",
       "      <th>14</th>\n",
       "      <td>626</td>\n",
       "      <td>sick puppy</td>\n",
       "    </tr>\n",
       "    <tr>\n",
       "      <th>15</th>\n",
       "      <td>821</td>\n",
       "      <td>the getaway</td>\n",
       "    </tr>\n",
       "    <tr>\n",
       "      <th>16</th>\n",
       "      <td>298</td>\n",
       "      <td>for the love of god</td>\n",
       "    </tr>\n",
       "    <tr>\n",
       "      <th>17</th>\n",
       "      <td>462</td>\n",
       "      <td>missionary stew</td>\n",
       "    </tr>\n",
       "    <tr>\n",
       "      <th>18</th>\n",
       "      <td>660</td>\n",
       "      <td>strangers on a train</td>\n",
       "    </tr>\n",
       "    <tr>\n",
       "      <th>19</th>\n",
       "      <td>595</td>\n",
       "      <td>rum punch</td>\n",
       "    </tr>\n",
       "  </tbody>\n",
       "</table>\n",
       "</div>"
      ],
      "text/plain": [
       "    BookIndex                        BookTitle\n",
       "0         483                   my dark places\n",
       "1          61               an inspector calls\n",
       "2         883   the mammoth book of true crime\n",
       "3         533               people of the book\n",
       "4         735                    the cleansing\n",
       "5         727  the chinatown death cloud peril\n",
       "6        1036               the wycherly woman\n",
       "7         275              faithful unto death\n",
       "8         201                      dead weight\n",
       "9         804                          the fan\n",
       "10        378                        invisible\n",
       "11       1037                  the yellow room\n",
       "12          2                a cast of killers\n",
       "13       1012                       the throat\n",
       "14        626                       sick puppy\n",
       "15        821                      the getaway\n",
       "16        298              for the love of god\n",
       "17        462                  missionary stew\n",
       "18        660             strangers on a train\n",
       "19        595                        rum punch"
      ]
     },
     "execution_count": 25,
     "metadata": {},
     "output_type": "execute_result"
    }
   ],
   "source": [
    "def most_similar_books(book_ind, book_names):\n",
    "    \n",
    "    most_sim_books = np.argsort(book_similarity_mat[book_ind,:])[::-1][0:20]\n",
    "    recommended_books = [book_names[i] for i in most_sim_books]\n",
    "    \n",
    "    recommendation_df = pd.DataFrame({'BookIndex': most_sim_books, 'BookTitle': recommended_books})\n",
    "    \n",
    "    print ('Target book: ', book_names[book_ind])\n",
    "    \n",
    "    return recommendation_df\n",
    "\n",
    "most_similar_books(483, new_book_names)  ## Try: 837, 483"
   ]
  },
  {
   "cell_type": "code",
   "execution_count": 29,
   "metadata": {
    "scrolled": true
   },
   "outputs": [
    {
     "name": "stdout",
     "output_type": "stream",
     "text": [
      "Target book:  my dark places\n"
     ]
    },
    {
     "data": {
      "text/html": [
       "<div>\n",
       "<style scoped>\n",
       "    .dataframe tbody tr th:only-of-type {\n",
       "        vertical-align: middle;\n",
       "    }\n",
       "\n",
       "    .dataframe tbody tr th {\n",
       "        vertical-align: top;\n",
       "    }\n",
       "\n",
       "    .dataframe thead th {\n",
       "        text-align: right;\n",
       "    }\n",
       "</style>\n",
       "<table border=\"1\" class=\"dataframe\">\n",
       "  <thead>\n",
       "    <tr style=\"text-align: right;\">\n",
       "      <th></th>\n",
       "      <th>BookIndex</th>\n",
       "      <th>BookTitle</th>\n",
       "    </tr>\n",
       "  </thead>\n",
       "  <tbody>\n",
       "    <tr>\n",
       "      <th>0</th>\n",
       "      <td>483</td>\n",
       "      <td>my dark places</td>\n",
       "    </tr>\n",
       "    <tr>\n",
       "      <th>1</th>\n",
       "      <td>61</td>\n",
       "      <td>an inspector calls</td>\n",
       "    </tr>\n",
       "    <tr>\n",
       "      <th>2</th>\n",
       "      <td>883</td>\n",
       "      <td>the mammoth book of true crime</td>\n",
       "    </tr>\n",
       "    <tr>\n",
       "      <th>3</th>\n",
       "      <td>533</td>\n",
       "      <td>people of the book</td>\n",
       "    </tr>\n",
       "    <tr>\n",
       "      <th>4</th>\n",
       "      <td>735</td>\n",
       "      <td>the cleansing</td>\n",
       "    </tr>\n",
       "    <tr>\n",
       "      <th>5</th>\n",
       "      <td>727</td>\n",
       "      <td>the chinatown death cloud peril</td>\n",
       "    </tr>\n",
       "    <tr>\n",
       "      <th>6</th>\n",
       "      <td>1036</td>\n",
       "      <td>the wycherly woman</td>\n",
       "    </tr>\n",
       "    <tr>\n",
       "      <th>7</th>\n",
       "      <td>275</td>\n",
       "      <td>faithful unto death</td>\n",
       "    </tr>\n",
       "    <tr>\n",
       "      <th>8</th>\n",
       "      <td>201</td>\n",
       "      <td>dead weight</td>\n",
       "    </tr>\n",
       "    <tr>\n",
       "      <th>9</th>\n",
       "      <td>804</td>\n",
       "      <td>the fan</td>\n",
       "    </tr>\n",
       "    <tr>\n",
       "      <th>10</th>\n",
       "      <td>378</td>\n",
       "      <td>invisible</td>\n",
       "    </tr>\n",
       "    <tr>\n",
       "      <th>11</th>\n",
       "      <td>1037</td>\n",
       "      <td>the yellow room</td>\n",
       "    </tr>\n",
       "    <tr>\n",
       "      <th>12</th>\n",
       "      <td>2</td>\n",
       "      <td>a cast of killers</td>\n",
       "    </tr>\n",
       "    <tr>\n",
       "      <th>13</th>\n",
       "      <td>1012</td>\n",
       "      <td>the throat</td>\n",
       "    </tr>\n",
       "    <tr>\n",
       "      <th>14</th>\n",
       "      <td>626</td>\n",
       "      <td>sick puppy</td>\n",
       "    </tr>\n",
       "    <tr>\n",
       "      <th>15</th>\n",
       "      <td>821</td>\n",
       "      <td>the getaway</td>\n",
       "    </tr>\n",
       "    <tr>\n",
       "      <th>16</th>\n",
       "      <td>298</td>\n",
       "      <td>for the love of god</td>\n",
       "    </tr>\n",
       "    <tr>\n",
       "      <th>17</th>\n",
       "      <td>462</td>\n",
       "      <td>missionary stew</td>\n",
       "    </tr>\n",
       "    <tr>\n",
       "      <th>18</th>\n",
       "      <td>660</td>\n",
       "      <td>strangers on a train</td>\n",
       "    </tr>\n",
       "    <tr>\n",
       "      <th>19</th>\n",
       "      <td>595</td>\n",
       "      <td>rum punch</td>\n",
       "    </tr>\n",
       "  </tbody>\n",
       "</table>\n",
       "</div>"
      ],
      "text/plain": [
       "    BookIndex                        BookTitle\n",
       "0         483                   my dark places\n",
       "1          61               an inspector calls\n",
       "2         883   the mammoth book of true crime\n",
       "3         533               people of the book\n",
       "4         735                    the cleansing\n",
       "5         727  the chinatown death cloud peril\n",
       "6        1036               the wycherly woman\n",
       "7         275              faithful unto death\n",
       "8         201                      dead weight\n",
       "9         804                          the fan\n",
       "10        378                        invisible\n",
       "11       1037                  the yellow room\n",
       "12          2                a cast of killers\n",
       "13       1012                       the throat\n",
       "14        626                       sick puppy\n",
       "15        821                      the getaway\n",
       "16        298              for the love of god\n",
       "17        462                  missionary stew\n",
       "18        660             strangers on a train\n",
       "19        595                        rum punch"
      ]
     },
     "execution_count": 29,
     "metadata": {},
     "output_type": "execute_result"
    }
   ],
   "source": [
    "most_similar_books(book_ind = 483, book_names = new_book_names)"
   ]
  },
  {
   "cell_type": "markdown",
   "metadata": {},
   "source": [
    "### Making it a bit more personalized, that is, consider other books that a user likes and recommend books accordingly:"
   ]
  },
  {
   "cell_type": "markdown",
   "metadata": {},
   "source": [
    "### Matrix-Factorization Approach"
   ]
  },
  {
   "cell_type": "markdown",
   "metadata": {
    "collapsed": true
   },
   "source": [
    "### Splitting data into train / test set and evaluating performance"
   ]
  },
  {
   "cell_type": "code",
   "execution_count": 33,
   "metadata": {},
   "outputs": [],
   "source": [
    "import random\n",
    "from sklearn.decomposition import TruncatedSVD"
   ]
  },
  {
   "cell_type": "code",
   "execution_count": 202,
   "metadata": {},
   "outputs": [
    {
     "name": "stdout",
     "output_type": "stream",
     "text": [
      "Shape of training data:  (50000, 1128)\n",
      "Shape of testing data:  (8991, 1128)\n"
     ]
    }
   ],
   "source": [
    "random.seed(11)\n",
    "\n",
    "user_ids_all = list(user_item_df.index)\n",
    "\n",
    "train_ind = random.sample(k = 50000, population = range(58991))\n",
    "train_user_ids = [user_ids_all[i] for i in train_ind]\n",
    "train_data = csr_matrix(user_item_df.iloc[train_ind, :])\n",
    "\n",
    "test_user_ids = [user_ids_all[j] for j in range(len(user_ids_all)) if j not in train_ind]\n",
    "test_data = csr_matrix(user_item_df.loc[test_user_ids, :])\n",
    "\n",
    "print ('Shape of training data: ', train_data.shape)\n",
    "print ('Shape of testing data: ', test_data.shape)"
   ]
  },
  {
   "cell_type": "markdown",
   "metadata": {},
   "source": [
    "### Sklearn implementation of SVD:"
   ]
  },
  {
   "cell_type": "code",
   "execution_count": 203,
   "metadata": {},
   "outputs": [],
   "source": [
    "def fit_svd(train, n_compo = 10, random_state = 11):\n",
    "    \n",
    "    tsvd = TruncatedSVD(n_components = n_compo, random_state = random_state)\n",
    "    tsvd.fit(train)\n",
    "    \n",
    "    return tsvd\n",
    "\n",
    "def predict_train(tsvd_obj, train):\n",
    "    \n",
    "    train_predictions = np.dot(tsvd_obj.transform(train), tsvd_obj.components_)\n",
    "    \n",
    "    return train_predictions\n",
    "\n",
    "def predict_test(tsvd_obj, test):\n",
    "    \n",
    "    test_predictions = np.dot(tsvd_obj.transform(test), tsvd_obj.components_)\n",
    "        \n",
    "    return test_predictions"
   ]
  },
  {
   "cell_type": "code",
   "execution_count": 204,
   "metadata": {},
   "outputs": [
    {
     "data": {
      "text/plain": [
       "(50000, 1128)"
      ]
     },
     "execution_count": 204,
     "metadata": {},
     "output_type": "execute_result"
    }
   ],
   "source": [
    "tsvd = fit_svd(train = train_data, n_compo = 25)\n",
    "predict_ratings_train = predict_train(tsvd_obj = tsvd, train = train_data)\n",
    "predict_ratings_train.shape"
   ]
  },
  {
   "cell_type": "code",
   "execution_count": 205,
   "metadata": {},
   "outputs": [
    {
     "data": {
      "text/plain": [
       "(8991, 1128)"
      ]
     },
     "execution_count": 205,
     "metadata": {},
     "output_type": "execute_result"
    }
   ],
   "source": [
    "predict_ratings_test = predict_test(tsvd_obj = tsvd, test = test_data)\n",
    "predict_ratings_test.shape"
   ]
  },
  {
   "cell_type": "code",
   "execution_count": 206,
   "metadata": {},
   "outputs": [],
   "source": [
    "def plot_rmse(rmse_list, n_users = 500):\n",
    "    \n",
    "    fig, ax = plt.subplots(figsize = (14,8))\n",
    "    ax.plot(rmse_list[0:n_users])\n",
    "    ax.axhline(y = np.mean(rmse_list), label = 'Avg. RMSE: {}'.format(round(np.mean(rmse_list), 3)), \n",
    "               color = 'r', linestyle = 'dashed')\n",
    "    ax.set_ylabel('RMSE', fontsize = 15)\n",
    "    ax.set_xlabel('UserId', fontsize = 15)\n",
    "    ax.set_title('RMSE for each user', fontsize = 20)\n",
    "    ax.legend()\n",
    "    plt.show()    \n",
    "    \n",
    "    return None"
   ]
  },
  {
   "cell_type": "code",
   "execution_count": 207,
   "metadata": {
    "scrolled": true
   },
   "outputs": [],
   "source": [
    "rmse_train = np.sqrt(np.mean((train_data.toarray() - predict_ratings_train)**2, axis = 1))"
   ]
  },
  {
   "cell_type": "code",
   "execution_count": 208,
   "metadata": {},
   "outputs": [
    {
     "data": {
      "image/png": "[encoded data removed]",
      "text/plain": [
       "<Figure size 1008x576 with 1 Axes>"
      ]
     },
     "metadata": {},
     "output_type": "display_data"
    }
   ],
   "source": [
    "plot_rmse(rmse_train)"
   ]
  },
  {
   "cell_type": "code",
   "execution_count": 209,
   "metadata": {},
   "outputs": [],
   "source": [
    "def get_recommended_books(user_id, books_list, latent_ratings, ui_mat, top_n = 15):\n",
    "    \n",
    "    ## Get recommendations for a given user:\n",
    "    ind_top_rated_books = np.argsort(latent_ratings.iloc[user_id])[::-1][0:top_n]\n",
    "    recommended_books = [books_list[ind] for ind in ind_top_rated_books]    \n",
    "    recommendation_df = pd.DataFrame({'UserID': user_id, 'BookID': ind_top_rated_books, \n",
    "                                     'Recommended_Books': recommended_books})\n",
    "    \n",
    "    ## Get actual books that the user rated:\n",
    "    user_rated_books = ui_mat[user_id,:].toarray()\n",
    "    rated_books_ind = np.argwhere(user_rated_books != 0)[:,1]\n",
    "    rated_books = [books_list[ind] for ind in rated_books_ind]\n",
    "    user_rated_books_df = pd.DataFrame({'BookID': rated_books_ind, 'RatedBooks': rated_books, 'UserID': user_id})\n",
    "    \n",
    "    return user_rated_books_df, recommendation_df\n",
    "\n",
    "## Try: 211\n",
    "user_rated_books, recommended_books = get_recommended_books(user_id = 211, books_list = new_book_names, \n",
    "                                      latent_ratings = predict_ratings, ui_mat = user_item_mat)"
   ]
  },
  {
   "cell_type": "code",
   "execution_count": 216,
   "metadata": {},
   "outputs": [],
   "source": [
    "rated_books, recommended_books = get_recommended_books(user_id = 100, books_list = new_book_names, \n",
    "                                      latent_ratings = pd.DataFrame(predict_ratings_train), ui_mat = train_data)"
   ]
  },
  {
   "cell_type": "code",
   "execution_count": 217,
   "metadata": {},
   "outputs": [
    {
     "data": {
      "text/html": [
       "<div>\n",
       "<style scoped>\n",
       "    .dataframe tbody tr th:only-of-type {\n",
       "        vertical-align: middle;\n",
       "    }\n",
       "\n",
       "    .dataframe tbody tr th {\n",
       "        vertical-align: top;\n",
       "    }\n",
       "\n",
       "    .dataframe thead th {\n",
       "        text-align: right;\n",
       "    }\n",
       "</style>\n",
       "<table border=\"1\" class=\"dataframe\">\n",
       "  <thead>\n",
       "    <tr style=\"text-align: right;\">\n",
       "      <th></th>\n",
       "      <th>BookID</th>\n",
       "      <th>RatedBooks</th>\n",
       "      <th>UserID</th>\n",
       "    </tr>\n",
       "  </thead>\n",
       "  <tbody>\n",
       "    <tr>\n",
       "      <th>0</th>\n",
       "      <td>937</td>\n",
       "      <td>the poisonwood bible</td>\n",
       "      <td>100</td>\n",
       "    </tr>\n",
       "  </tbody>\n",
       "</table>\n",
       "</div>"
      ],
      "text/plain": [
       "   BookID            RatedBooks  UserID\n",
       "0     937  the poisonwood bible     100"
      ]
     },
     "execution_count": 217,
     "metadata": {},
     "output_type": "execute_result"
    }
   ],
   "source": [
    "rated_books"
   ]
  },
  {
   "cell_type": "code",
   "execution_count": 218,
   "metadata": {
    "scrolled": true
   },
   "outputs": [
    {
     "data": {
      "text/html": [
       "<div>\n",
       "<style scoped>\n",
       "    .dataframe tbody tr th:only-of-type {\n",
       "        vertical-align: middle;\n",
       "    }\n",
       "\n",
       "    .dataframe tbody tr th {\n",
       "        vertical-align: top;\n",
       "    }\n",
       "\n",
       "    .dataframe thead th {\n",
       "        text-align: right;\n",
       "    }\n",
       "</style>\n",
       "<table border=\"1\" class=\"dataframe\">\n",
       "  <thead>\n",
       "    <tr style=\"text-align: right;\">\n",
       "      <th></th>\n",
       "      <th>UserID</th>\n",
       "      <th>BookID</th>\n",
       "      <th>Recommended_Books</th>\n",
       "    </tr>\n",
       "  </thead>\n",
       "  <tbody>\n",
       "    <tr>\n",
       "      <th>1127</th>\n",
       "      <td>100</td>\n",
       "      <td>937</td>\n",
       "      <td>the poisonwood bible</td>\n",
       "    </tr>\n",
       "    <tr>\n",
       "      <th>1126</th>\n",
       "      <td>100</td>\n",
       "      <td>699</td>\n",
       "      <td>the blind assassin</td>\n",
       "    </tr>\n",
       "    <tr>\n",
       "      <th>1125</th>\n",
       "      <td>100</td>\n",
       "      <td>641</td>\n",
       "      <td>snow falling on cedars</td>\n",
       "    </tr>\n",
       "    <tr>\n",
       "      <th>1124</th>\n",
       "      <td>100</td>\n",
       "      <td>642</td>\n",
       "      <td>snow flower and the secret fan</td>\n",
       "    </tr>\n",
       "    <tr>\n",
       "      <th>1123</th>\n",
       "      <td>100</td>\n",
       "      <td>1092</td>\n",
       "      <td>under the tuscan sun</td>\n",
       "    </tr>\n",
       "    <tr>\n",
       "      <th>1122</th>\n",
       "      <td>100</td>\n",
       "      <td>934</td>\n",
       "      <td>the pilot's wife</td>\n",
       "    </tr>\n",
       "    <tr>\n",
       "      <th>1121</th>\n",
       "      <td>100</td>\n",
       "      <td>1006</td>\n",
       "      <td>the testament</td>\n",
       "    </tr>\n",
       "    <tr>\n",
       "      <th>1120</th>\n",
       "      <td>100</td>\n",
       "      <td>548</td>\n",
       "      <td>possession</td>\n",
       "    </tr>\n",
       "    <tr>\n",
       "      <th>1119</th>\n",
       "      <td>100</td>\n",
       "      <td>452</td>\n",
       "      <td>midnight in the garden of good and evil</td>\n",
       "    </tr>\n",
       "    <tr>\n",
       "      <th>1118</th>\n",
       "      <td>100</td>\n",
       "      <td>792</td>\n",
       "      <td>the emperor of ocean park</td>\n",
       "    </tr>\n",
       "    <tr>\n",
       "      <th>1117</th>\n",
       "      <td>100</td>\n",
       "      <td>967</td>\n",
       "      <td>the secret history</td>\n",
       "    </tr>\n",
       "    <tr>\n",
       "      <th>1116</th>\n",
       "      <td>100</td>\n",
       "      <td>1107</td>\n",
       "      <td>we need to talk about kevin</td>\n",
       "    </tr>\n",
       "    <tr>\n",
       "      <th>1115</th>\n",
       "      <td>100</td>\n",
       "      <td>38</td>\n",
       "      <td>a tree grows in brooklyn</td>\n",
       "    </tr>\n",
       "    <tr>\n",
       "      <th>1114</th>\n",
       "      <td>100</td>\n",
       "      <td>626</td>\n",
       "      <td>sick puppy</td>\n",
       "    </tr>\n",
       "    <tr>\n",
       "      <th>1113</th>\n",
       "      <td>100</td>\n",
       "      <td>542</td>\n",
       "      <td>plain truth</td>\n",
       "    </tr>\n",
       "  </tbody>\n",
       "</table>\n",
       "</div>"
      ],
      "text/plain": [
       "      UserID  BookID                        Recommended_Books\n",
       "1127     100     937                     the poisonwood bible\n",
       "1126     100     699                       the blind assassin\n",
       "1125     100     641                   snow falling on cedars\n",
       "1124     100     642           snow flower and the secret fan\n",
       "1123     100    1092                     under the tuscan sun\n",
       "1122     100     934                         the pilot's wife\n",
       "1121     100    1006                            the testament\n",
       "1120     100     548                               possession\n",
       "1119     100     452  midnight in the garden of good and evil\n",
       "1118     100     792                the emperor of ocean park\n",
       "1117     100     967                       the secret history\n",
       "1116     100    1107              we need to talk about kevin\n",
       "1115     100      38                 a tree grows in brooklyn\n",
       "1114     100     626                               sick puppy\n",
       "1113     100     542                              plain truth"
      ]
     },
     "execution_count": 218,
     "metadata": {},
     "output_type": "execute_result"
    }
   ],
   "source": [
    "recommended_books"
   ]
  },
  {
   "cell_type": "code",
   "execution_count": 219,
   "metadata": {},
   "outputs": [
    {
     "data": {
      "image/png": "[encoded data removed]",
      "text/plain": [
       "<Figure size 1008x576 with 1 Axes>"
      ]
     },
     "metadata": {},
     "output_type": "display_data"
    }
   ],
   "source": [
    "rmse_test = np.sqrt(np.mean((test_data.toarray() - predict_ratings_test)**2, axis = 1)) \n",
    "plot_rmse(rmse_test)"
   ]
  },
  {
   "cell_type": "markdown",
   "metadata": {},
   "source": [
    "## Notes:\n",
    "\n",
    "1. Increasing **#singual values** decreases RMSE. This also increases the overlap between the recommended books and the books that a user has already rated.\n",
    "\n",
    "2. Currently, not using actual **BookID** and **UserID**, but they can easily be traced back (example given).\n",
    "\n",
    "3. Sparsity of the user-item-matrix is still an issue.\n",
    "\n",
    "4. Only considering users who rated **at least two** books.\n",
    "\n",
    "5. As most of the predicted ratings are close to 0 and most of the actual ratings are also 0 (i.e. users didn't rate a lot of books), we eventually end-up with lower RMSE. In other words, sparsity (i.e. a lot of 0s)decreases RMSE. If we were to have dense matrix then, probably, RMSE will be a bit higher than current value."
   ]
  },
  {
   "cell_type": "code",
   "execution_count": null,
   "metadata": {},
   "outputs": [],
   "source": []
  }
 ],
 "metadata": {
  "kernelspec": {
   "display_name": "Python 3",
   "language": "python",
   "name": "python3"
  },
  "language_info": {
   "codemirror_mode": {
    "name": "ipython",
    "version": 3
   },
   "file_extension": ".py",
   "mimetype": "text/x-python",
   "name": "python",
   "nbconvert_exporter": "python",
   "pygments_lexer": "ipython3",
   "version": "3.6.5"
  }
 },
 "nbformat": 4,
 "nbformat_minor": 2
}
