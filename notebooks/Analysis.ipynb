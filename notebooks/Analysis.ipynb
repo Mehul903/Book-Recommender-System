{
 "cells": [
  {
   "cell_type": "code",
   "execution_count": 1,
   "metadata": {
    "scrolled": true
   },
   "outputs": [],
   "source": [
    "%load_ext autotime"
   ]
  },
  {
   "cell_type": "code",
   "execution_count": 2,
   "metadata": {},
   "outputs": [
    {
     "name": "stdout",
     "output_type": "stream",
     "text": [
      "time: 531 ms\n"
     ]
    }
   ],
   "source": [
    "import pandas as pd\n",
    "import numpy as np    \n",
    "import matplotlib.pyplot as plt\n",
    "\n",
    "from sklearn.metrics.pairwise import cosine_similarity\n",
    "from scipy.sparse import csr_matrix"
   ]
  },
  {
   "cell_type": "markdown",
   "metadata": {},
   "source": [
    "## Data Post-processing:"
   ]
  },
  {
   "cell_type": "markdown",
   "metadata": {},
   "source": [
    "### Import reviews file (i.e. pre-processed amazon-book-reviews created by `reviews_preprocessing.ipynb` ):"
   ]
  },
  {
   "cell_type": "code",
   "execution_count": 3,
   "metadata": {},
   "outputs": [
    {
     "name": "stdout",
     "output_type": "stream",
     "text": [
      "time: 5.52 s\n"
     ]
    }
   ],
   "source": [
    "col_names = ['productID', 'title', 'price', 'userID', 'profileName', \n",
    "             'helpfulness', 'score', 'time', 'summary', 'text']\n",
    "books_amazon = pd.read_csv('E://MRP//0102/Books.csv', nrows = 10, encoding = 'utf-8', names=col_names)"
   ]
  },
  {
   "cell_type": "code",
   "execution_count": 4,
   "metadata": {
    "scrolled": true
   },
   "outputs": [
    {
     "data": {
      "text/html": [
       "<div>\n",
       "<style>\n",
       "    .dataframe thead tr:only-child th {\n",
       "        text-align: right;\n",
       "    }\n",
       "\n",
       "    .dataframe thead th {\n",
       "        text-align: left;\n",
       "    }\n",
       "\n",
       "    .dataframe tbody tr th {\n",
       "        vertical-align: top;\n",
       "    }\n",
       "</style>\n",
       "<table border=\"1\" class=\"dataframe\">\n",
       "  <thead>\n",
       "    <tr style=\"text-align: right;\">\n",
       "      <th></th>\n",
       "      <th>productID</th>\n",
       "      <th>title</th>\n",
       "      <th>price</th>\n",
       "      <th>userID</th>\n",
       "      <th>profileName</th>\n",
       "      <th>helpfulness</th>\n",
       "      <th>score</th>\n",
       "      <th>time</th>\n",
       "      <th>summary</th>\n",
       "      <th>text</th>\n",
       "    </tr>\n",
       "  </thead>\n",
       "  <tbody>\n",
       "    <tr>\n",
       "      <th>0</th>\n",
       "      <td>1882931173</td>\n",
       "      <td>Its Only Art If Its Well Hung!</td>\n",
       "      <td>unknown</td>\n",
       "      <td>AVCGYZL8FQQTD</td>\n",
       "      <td>Jim of Oz \"jim-of-oz\"</td>\n",
       "      <td>7/7</td>\n",
       "      <td>4.0</td>\n",
       "      <td>940636800</td>\n",
       "      <td>Nice collection of Julie Strain images</td>\n",
       "      <td>This is only for Julie Strain fans. It's a co...</td>\n",
       "    </tr>\n",
       "    <tr>\n",
       "      <th>1</th>\n",
       "      <td>826414346</td>\n",
       "      <td>Dr. Seuss</td>\n",
       "      <td>unknown</td>\n",
       "      <td>A30TK6U7DNS82R</td>\n",
       "      <td>Kevin Killian</td>\n",
       "      <td>10/10</td>\n",
       "      <td>5.0</td>\n",
       "      <td>1095724800</td>\n",
       "      <td>Really Enjoyed It</td>\n",
       "      <td>I don't care much for Dr. Seuss but after rea...</td>\n",
       "    </tr>\n",
       "    <tr>\n",
       "      <th>2</th>\n",
       "      <td>826414346</td>\n",
       "      <td>Dr. Seuss</td>\n",
       "      <td>unknown</td>\n",
       "      <td>A3UH4UZ4RSVO82</td>\n",
       "      <td>John Granger</td>\n",
       "      <td>10/11</td>\n",
       "      <td>5.0</td>\n",
       "      <td>1078790400</td>\n",
       "      <td>Essential for every personal and Public Library</td>\n",
       "      <td>If people become the books they read and if \"...</td>\n",
       "    </tr>\n",
       "    <tr>\n",
       "      <th>3</th>\n",
       "      <td>826414346</td>\n",
       "      <td>Dr. Seuss</td>\n",
       "      <td>unknown</td>\n",
       "      <td>A2MVUWT453QH61</td>\n",
       "      <td>Roy E. Perry \"amateur philosopher\"</td>\n",
       "      <td>7/7</td>\n",
       "      <td>4.0</td>\n",
       "      <td>1090713600</td>\n",
       "      <td>Phlip Nel gives silly Seuss a serious treatment</td>\n",
       "      <td>Theodore Seuss Geisel (1904-1991), aka &amp;quot;...</td>\n",
       "    </tr>\n",
       "    <tr>\n",
       "      <th>4</th>\n",
       "      <td>826414346</td>\n",
       "      <td>Dr. Seuss</td>\n",
       "      <td>unknown</td>\n",
       "      <td>A22X4XUPKF66MR</td>\n",
       "      <td>D. H. Richards \"ninthwavestore\"</td>\n",
       "      <td>3/3</td>\n",
       "      <td>4.0</td>\n",
       "      <td>1107993600</td>\n",
       "      <td>Good academic overview</td>\n",
       "      <td>Philip Nel - Dr. Seuss</td>\n",
       "    </tr>\n",
       "    <tr>\n",
       "      <th>5</th>\n",
       "      <td>826414346</td>\n",
       "      <td>Dr. Seuss</td>\n",
       "      <td>unknown</td>\n",
       "      <td>A2F6NONFUDB6UK</td>\n",
       "      <td>Malvin</td>\n",
       "      <td>2/2</td>\n",
       "      <td>4.0</td>\n",
       "      <td>1127174400</td>\n",
       "      <td>One of America's greatest creative talents</td>\n",
       "      <td>\"Dr. Seuss</td>\n",
       "    </tr>\n",
       "    <tr>\n",
       "      <th>6</th>\n",
       "      <td>826414346</td>\n",
       "      <td>Dr. Seuss</td>\n",
       "      <td>unknown</td>\n",
       "      <td>A14OJS0VWMOSWO</td>\n",
       "      <td>Midwest Book Review</td>\n",
       "      <td>3/4</td>\n",
       "      <td>5.0</td>\n",
       "      <td>1100131200</td>\n",
       "      <td>A memorably excellent survey of Dr. Seuss' ma...</td>\n",
       "      <td>Theodor Seuss Giesel was best known as 'Dr. S...</td>\n",
       "    </tr>\n",
       "    <tr>\n",
       "      <th>7</th>\n",
       "      <td>826414346</td>\n",
       "      <td>Dr. Seuss</td>\n",
       "      <td>unknown</td>\n",
       "      <td>A2RSSXTDZDUSH4</td>\n",
       "      <td>J. Squire</td>\n",
       "      <td>0/0</td>\n",
       "      <td>5.0</td>\n",
       "      <td>1231200000</td>\n",
       "      <td>Academia At It's Best</td>\n",
       "      <td>When I recieved this book as a gift for Chris...</td>\n",
       "    </tr>\n",
       "    <tr>\n",
       "      <th>8</th>\n",
       "      <td>826414346</td>\n",
       "      <td>Dr. Seuss</td>\n",
       "      <td>unknown</td>\n",
       "      <td>A25MD5I2GUIW6W</td>\n",
       "      <td>J. P. HIGBED \"big fellow\"</td>\n",
       "      <td>0/0</td>\n",
       "      <td>5.0</td>\n",
       "      <td>1209859200</td>\n",
       "      <td>And to think that I read it on the tram!</td>\n",
       "      <td>Trams (or any public transport) are not usual...</td>\n",
       "    </tr>\n",
       "    <tr>\n",
       "      <th>9</th>\n",
       "      <td>826414346</td>\n",
       "      <td>Dr. Seuss</td>\n",
       "      <td>unknown</td>\n",
       "      <td>A3VA4XFS5WNJO3</td>\n",
       "      <td>Donald Burnside</td>\n",
       "      <td>3/5</td>\n",
       "      <td>4.0</td>\n",
       "      <td>1076371200</td>\n",
       "      <td>Fascinating account of a genius at work</td>\n",
       "      <td>As far as I am aware, this is the first book-...</td>\n",
       "    </tr>\n",
       "  </tbody>\n",
       "</table>\n",
       "</div>"
      ],
      "text/plain": [
       "    productID                            title     price           userID  \\\n",
       "0  1882931173   Its Only Art If Its Well Hung!   unknown    AVCGYZL8FQQTD   \n",
       "1   826414346                        Dr. Seuss   unknown   A30TK6U7DNS82R   \n",
       "2   826414346                        Dr. Seuss   unknown   A3UH4UZ4RSVO82   \n",
       "3   826414346                        Dr. Seuss   unknown   A2MVUWT453QH61   \n",
       "4   826414346                        Dr. Seuss   unknown   A22X4XUPKF66MR   \n",
       "5   826414346                        Dr. Seuss   unknown   A2F6NONFUDB6UK   \n",
       "6   826414346                        Dr. Seuss   unknown   A14OJS0VWMOSWO   \n",
       "7   826414346                        Dr. Seuss   unknown   A2RSSXTDZDUSH4   \n",
       "8   826414346                        Dr. Seuss   unknown   A25MD5I2GUIW6W   \n",
       "9   826414346                        Dr. Seuss   unknown   A3VA4XFS5WNJO3   \n",
       "\n",
       "                           profileName helpfulness  score        time  \\\n",
       "0                Jim of Oz \"jim-of-oz\"         7/7    4.0   940636800   \n",
       "1                        Kevin Killian       10/10    5.0  1095724800   \n",
       "2                         John Granger       10/11    5.0  1078790400   \n",
       "3   Roy E. Perry \"amateur philosopher\"         7/7    4.0  1090713600   \n",
       "4      D. H. Richards \"ninthwavestore\"         3/3    4.0  1107993600   \n",
       "5                               Malvin         2/2    4.0  1127174400   \n",
       "6                  Midwest Book Review         3/4    5.0  1100131200   \n",
       "7                            J. Squire         0/0    5.0  1231200000   \n",
       "8            J. P. HIGBED \"big fellow\"         0/0    5.0  1209859200   \n",
       "9                      Donald Burnside         3/5    4.0  1076371200   \n",
       "\n",
       "                                             summary  \\\n",
       "0             Nice collection of Julie Strain images   \n",
       "1                                  Really Enjoyed It   \n",
       "2    Essential for every personal and Public Library   \n",
       "3    Phlip Nel gives silly Seuss a serious treatment   \n",
       "4                             Good academic overview   \n",
       "5         One of America's greatest creative talents   \n",
       "6   A memorably excellent survey of Dr. Seuss' ma...   \n",
       "7                              Academia At It's Best   \n",
       "8           And to think that I read it on the tram!   \n",
       "9            Fascinating account of a genius at work   \n",
       "\n",
       "                                                text  \n",
       "0   This is only for Julie Strain fans. It's a co...  \n",
       "1   I don't care much for Dr. Seuss but after rea...  \n",
       "2   If people become the books they read and if \"...  \n",
       "3   Theodore Seuss Geisel (1904-1991), aka &quot;...  \n",
       "4                             Philip Nel - Dr. Seuss  \n",
       "5                                         \"Dr. Seuss  \n",
       "6   Theodor Seuss Giesel was best known as 'Dr. S...  \n",
       "7   When I recieved this book as a gift for Chris...  \n",
       "8   Trams (or any public transport) are not usual...  \n",
       "9   As far as I am aware, this is the first book-...  "
      ]
     },
     "execution_count": 4,
     "metadata": {},
     "output_type": "execute_result"
    },
    {
     "name": "stdout",
     "output_type": "stream",
     "text": [
      "time: 7.57 ms\n"
     ]
    }
   ],
   "source": [
    "books_amazon"
   ]
  },
  {
   "cell_type": "code",
   "execution_count": 5,
   "metadata": {
    "scrolled": true
   },
   "outputs": [
    {
     "name": "stdout",
     "output_type": "stream",
     "text": [
      "time: 1min 53s\n"
     ]
    }
   ],
   "source": [
    "## Get all the book-names from Amaozn-data (later this list will be used to find crime-mystery books):\n",
    "book_names = []\n",
    "i = 0\n",
    "with open ('E://MRP//0102/Books.csv') as books:\n",
    "    for line in books:\n",
    "        book_names.append(line.split(',')[1])"
   ]
  },
  {
   "cell_type": "code",
   "execution_count": 6,
   "metadata": {},
   "outputs": [
    {
     "name": "stdout",
     "output_type": "stream",
     "text": [
      "time: 1.42 s\n"
     ]
    }
   ],
   "source": [
    "unique_books = list(set(book_names))\n",
    "unique_books = [book.strip().lower() for book in unique_books]\n",
    "unique_books.sort()"
   ]
  },
  {
   "cell_type": "markdown",
   "metadata": {},
   "source": [
    "### Import goodreads file (i.e. data collected from `goodreads_data.ipynb`):"
   ]
  },
  {
   "cell_type": "code",
   "execution_count": 123,
   "metadata": {
    "scrolled": true
   },
   "outputs": [
    {
     "data": {
      "text/html": [
       "<div>\n",
       "<style>\n",
       "    .dataframe thead tr:only-child th {\n",
       "        text-align: right;\n",
       "    }\n",
       "\n",
       "    .dataframe thead th {\n",
       "        text-align: left;\n",
       "    }\n",
       "\n",
       "    .dataframe tbody tr th {\n",
       "        vertical-align: top;\n",
       "    }\n",
       "</style>\n",
       "<table border=\"1\" class=\"dataframe\">\n",
       "  <thead>\n",
       "    <tr style=\"text-align: right;\">\n",
       "      <th></th>\n",
       "      <th>Avg_Rating</th>\n",
       "      <th>Books</th>\n",
       "      <th>Total_Num_Ratings</th>\n",
       "      <th>Total_Num_Votes</th>\n",
       "    </tr>\n",
       "  </thead>\n",
       "  <tbody>\n",
       "    <tr>\n",
       "      <th>0</th>\n",
       "      <td>4.12</td>\n",
       "      <td>the girl with the dragon tattoo (millennium, #1)</td>\n",
       "      <td>2028253</td>\n",
       "      <td>2818</td>\n",
       "    </tr>\n",
       "    <tr>\n",
       "      <th>1</th>\n",
       "      <td>4.24</td>\n",
       "      <td>and then there were none</td>\n",
       "      <td>500620</td>\n",
       "      <td>2077</td>\n",
       "    </tr>\n",
       "    <tr>\n",
       "      <th>2</th>\n",
       "      <td>3.86</td>\n",
       "      <td>angels &amp; demons  (robert langdon, #1)</td>\n",
       "      <td>2166178</td>\n",
       "      <td>1334</td>\n",
       "    </tr>\n",
       "    <tr>\n",
       "      <th>3</th>\n",
       "      <td>4.21</td>\n",
       "      <td>rebecca</td>\n",
       "      <td>342140</td>\n",
       "      <td>939</td>\n",
       "    </tr>\n",
       "    <tr>\n",
       "      <th>4</th>\n",
       "      <td>4.05</td>\n",
       "      <td>in cold blood</td>\n",
       "      <td>416759</td>\n",
       "      <td>765</td>\n",
       "    </tr>\n",
       "  </tbody>\n",
       "</table>\n",
       "</div>"
      ],
      "text/plain": [
       "   Avg_Rating                                             Books  \\\n",
       "0        4.12  the girl with the dragon tattoo (millennium, #1)   \n",
       "1        4.24                          and then there were none   \n",
       "2        3.86             angels & demons  (robert langdon, #1)   \n",
       "3        4.21                                           rebecca   \n",
       "4        4.05                                     in cold blood   \n",
       "\n",
       "   Total_Num_Ratings  Total_Num_Votes  \n",
       "0            2028253             2818  \n",
       "1             500620             2077  \n",
       "2            2166178             1334  \n",
       "3             342140              939  \n",
       "4             416759              765  "
      ]
     },
     "execution_count": 123,
     "metadata": {},
     "output_type": "execute_result"
    },
    {
     "name": "stdout",
     "output_type": "stream",
     "text": [
      "time: 46.8 ms\n"
     ]
    }
   ],
   "source": [
    "books_goodreads = pd.read_csv('C:/Users/patel.mehu/Book-Recommender-System/data/books_df.csv', encoding = 'latin1')\n",
    "\n",
    "books_goodreads['Books'] = [book.strip().lower() for book in books_goodreads['Books']]\n",
    "books_goodreads['Total_Num_Ratings'] = [int(rating.replace(',','')) for rating in books_goodreads['Total_Num_Ratings']]\n",
    "books_goodreads['Total_Num_Votes'] = [int(vote.replace(',','')) for vote in books_goodreads['Total_Num_Votes']]\n",
    "books_goodreads['Avg_Rating'] = [float(rating.strip(\"['']\")) for rating in books_goodreads['Avg_Rating']]\n",
    "\n",
    "books_goodreads.head()"
   ]
  },
  {
   "cell_type": "markdown",
   "metadata": {},
   "source": [
    "### Found matches for only 1200 books out of 5000:"
   ]
  },
  {
   "cell_type": "code",
   "execution_count": 9,
   "metadata": {},
   "outputs": [
    {
     "data": {
      "text/plain": [
       "1200"
      ]
     },
     "execution_count": 9,
     "metadata": {},
     "output_type": "execute_result"
    },
    {
     "name": "stdout",
     "output_type": "stream",
     "text": [
      "time: 172 ms\n"
     ]
    }
   ],
   "source": [
    "common_books = list(set(unique_books) & set(books_goodreads['Books']))\n",
    "len(common_books)"
   ]
  },
  {
   "cell_type": "markdown",
   "metadata": {},
   "source": [
    "### Start building a recommendation system:"
   ]
  },
  {
   "cell_type": "markdown",
   "metadata": {},
   "source": [
    "#### Efficient but incomplete method!"
   ]
  },
  {
   "cell_type": "code",
   "execution_count": 204,
   "metadata": {
    "scrolled": true
   },
   "outputs": [
    {
     "name": "stdout",
     "output_type": "stream",
     "text": [
      " 1882931173, Its Only Art If Its Well Hung!, unknown, AVCGYZL8FQQTD,\" Jim of Oz \"\"jim-of-oz\"\"\", 7/7, 4.0, 940636800, Nice collection of Julie Strain images,\" This is only for Julie Strain fans. It's a collection of her photos -- about 80 pages worth with a nice section of paintings by Olivia.If you're looking for heavy literary content, this isn't the place to find it -- there's only about 2 pages with text and everything else is photos.Bottom line\"\n",
      "\n",
      " 0826414346, Dr. Seuss, unknown, A30TK6U7DNS82R, Kevin Killian, 10/10, 5.0, 1095724800, Really Enjoyed It,\" I don't care much for Dr. Seuss but after reading Philip Nel's book I changed my mind--that's a good testimonial to the power of Rel's writing and thinking. Rel plays Dr. Seuss the ultimate compliment of treating him as a serious poet as well as one of the 20th century's most interesting visual artists, and after reading his book I decided that a trip to the Mandeville Collections of the library at University of California in San Diego was in order, so I could visit some of the incredible Seuss/Geisel holdings they have there.There's almost too much to take in, for, like William Butler Yeats, Seuss led a career that constantly shifted and metamoprhized itself to meet new historical and political cirsumstances, so he seems to have been both a leftist and a conservative at different junctures of his career, both in politics and in art. As Nel shows us, he was once a cartoonist for the fabled PM magazine and, like Andy Warhol, he served his time slaving in the ad business too. All was in the service of amusing and broadening the minds of US children. Nel doesn't hesitate to administer a sound spanking to the Seuss industry that, since his death, has seen fit to license all kinds of awful products including the recent CAT IN THE HAT film with Mike Myers. Oh, what a cat-astrophe!The book is great and I can especially recommend the work of the picture editor who has given us a bounty of good illustrations.\"\n",
      "\n",
      " 0826414346, Dr. Seuss, unknown, A3UH4UZ4RSVO82, John Granger, 10/11, 5.0, 1078790400, Essential for every personal and Public Library,\" If people become the books they read and if \"\"the child is father to the man,\"\" then Dr. Seuss (Theodor Seuss Geisel) is the most influential author, poet, and artist of modern times. For me, a daddy to a large family who learned to read with Dr. Seuss and who has memorized too many of the books via repeated readings to young children, Prof. Nel's brilliant 'American Icon' is a long awaited treat. At last a serious treatment of this remarkable genius that is both an engaging read and filled with remarkable insights! I especially enjoyed (and learned more than I care to admit from) Prof. Nel's discussions of the Disneyfication of Seuss - which Nel links to failings in American copyright law, \"\"the other sides of Dr. Seuss\"\" - all of which sides were new to me, and the political genesis of his secular morality in the WWII cartoon work he did at PM magazine. The chapters on Geisel's poetry and artwork and the link Nel makes between Seuss and the historical avant guarde alone make this book a \"\"must buy\"\" for parents and serious readers, not to mention public libraries. Readers of Nel's other books will find the same engaging writing style that makes the book a fun read while imparting a mountain of information and important ideas. This is simply the best and most comprehensive book yet written on the work of Seuss Geisel and what will certainly be the standard for many years to come. Thank you, Prof. Nel, wherever you are, from a reader who grew up with the good doctor and who is growing up with him again years later. Your book, written from your encyclopeadic knowledge of children's literature and the media of this genre - from scanning verse to cubist painting! - explains the power, limits, and popularity of the Seuss phenomenon.\"\n",
      "\n",
      " 0826414346, Dr. Seuss, unknown, A2MVUWT453QH61,\" Roy E. Perry \"\"amateur philosopher\"\"\", 7/7, 4.0, 1090713600, Phlip Nel gives silly Seuss a serious treatment,\" Theodore Seuss Geisel (1904-1991), aka &quot;Dr. Seuss,&quot; was one of the most influential writers and artists of the 20th century.In 1959, Rudolf Flesch wrote, &quot;A hundred years from now, children and their parents will still eagerly read the books of a fellow called Ted Geisel, popularly known as Dr. Seuss.&quot;Flesch was too conservative in his prediction. A century, and more, from today, Dr. Seuss will still be read when many authors on today's bestseller lists will be forgotten.Published on the centenary of Geisel's birth, Dr. Seuss\"\n",
      "\n",
      " 0826414346, Dr. Seuss, unknown, A22X4XUPKF66MR,\" D. H. Richards \"\"ninthwavestore\"\"\", 3/3, 4.0, 1107993600, Good academic overview, Philip Nel - Dr. Seuss\n",
      "\n",
      "time: 5.02 ms\n"
     ]
    }
   ],
   "source": [
    "temp_book = ['Dr. Seuss', 'Its Only Art If Its Well Hung!']\n",
    "# temp_books = set(common_books)\n",
    "\n",
    "list_df = []\n",
    "with open ('E://MRP//0102//Books.csv') as books:\n",
    "    for i in range(5):\n",
    "        line = books.readline()\n",
    "        book = line.split(',')[1].strip()\n",
    "        \n",
    "        if book in temp_book:\n",
    "            list_df.append(line)"
   ]
  },
  {
   "cell_type": "markdown",
   "metadata": {},
   "source": [
    "#### Quick fix for incomplete-method:"
   ]
  },
  {
   "cell_type": "code",
   "execution_count": 10,
   "metadata": {},
   "outputs": [
    {
     "data": {
      "text/html": [
       "<div>\n",
       "<style>\n",
       "    .dataframe thead tr:only-child th {\n",
       "        text-align: right;\n",
       "    }\n",
       "\n",
       "    .dataframe thead th {\n",
       "        text-align: left;\n",
       "    }\n",
       "\n",
       "    .dataframe tbody tr th {\n",
       "        vertical-align: top;\n",
       "    }\n",
       "</style>\n",
       "<table border=\"1\" class=\"dataframe\">\n",
       "  <thead>\n",
       "    <tr style=\"text-align: right;\">\n",
       "      <th></th>\n",
       "      <th>BookID</th>\n",
       "      <th>BookTitle</th>\n",
       "      <th>UserID</th>\n",
       "      <th>Score</th>\n",
       "    </tr>\n",
       "  </thead>\n",
       "  <tbody>\n",
       "    <tr>\n",
       "      <th>0</th>\n",
       "      <td>1882931173</td>\n",
       "      <td>its only art if its well hung!</td>\n",
       "      <td>AVCGYZL8FQQTD</td>\n",
       "      <td>4.0</td>\n",
       "    </tr>\n",
       "    <tr>\n",
       "      <th>1</th>\n",
       "      <td>0826414346</td>\n",
       "      <td>dr. seuss</td>\n",
       "      <td>A30TK6U7DNS82R</td>\n",
       "      <td>5.0</td>\n",
       "    </tr>\n",
       "    <tr>\n",
       "      <th>2</th>\n",
       "      <td>0826414346</td>\n",
       "      <td>dr. seuss</td>\n",
       "      <td>A3UH4UZ4RSVO82</td>\n",
       "      <td>5.0</td>\n",
       "    </tr>\n",
       "    <tr>\n",
       "      <th>3</th>\n",
       "      <td>0826414346</td>\n",
       "      <td>dr. seuss</td>\n",
       "      <td>A2MVUWT453QH61</td>\n",
       "      <td>4.0</td>\n",
       "    </tr>\n",
       "    <tr>\n",
       "      <th>4</th>\n",
       "      <td>0826414346</td>\n",
       "      <td>dr. seuss</td>\n",
       "      <td>A22X4XUPKF66MR</td>\n",
       "      <td>4.0</td>\n",
       "    </tr>\n",
       "  </tbody>\n",
       "</table>\n",
       "</div>"
      ],
      "text/plain": [
       "        BookID                       BookTitle           UserID  Score\n",
       "0   1882931173  its only art if its well hung!    AVCGYZL8FQQTD    4.0\n",
       "1   0826414346                       dr. seuss   A30TK6U7DNS82R    5.0\n",
       "2   0826414346                       dr. seuss   A3UH4UZ4RSVO82    5.0\n",
       "3   0826414346                       dr. seuss   A2MVUWT453QH61    4.0\n",
       "4   0826414346                       dr. seuss   A22X4XUPKF66MR    4.0"
      ]
     },
     "execution_count": 10,
     "metadata": {},
     "output_type": "execute_result"
    },
    {
     "name": "stdout",
     "output_type": "stream",
     "text": [
      "time: 41.3 s\n"
     ]
    }
   ],
   "source": [
    "# books_amazon_whole = pd.read_csv('E://MRP//0102/Books.csv', encoding = 'utf-8', names=col_names)\n",
    "books_amazon_whole = pd.read_csv('E://MRP//0102/Books.csv', encoding = 'utf-8', \n",
    "                                 header=None, usecols=[0,1,3,6])\n",
    "new_cols = ['BookID', 'BookTitle', 'UserID', 'Score']\n",
    "books_amazon_whole.columns = new_cols\n",
    "books_amazon_whole['BookTitle'] = [title.strip().lower() for title in books_amazon_whole['BookTitle']]\n",
    "books_amazon_whole.head()"
   ]
  },
  {
   "cell_type": "code",
   "execution_count": 11,
   "metadata": {},
   "outputs": [
    {
     "data": {
      "text/html": [
       "<div>\n",
       "<style>\n",
       "    .dataframe thead tr:only-child th {\n",
       "        text-align: right;\n",
       "    }\n",
       "\n",
       "    .dataframe thead th {\n",
       "        text-align: left;\n",
       "    }\n",
       "\n",
       "    .dataframe tbody tr th {\n",
       "        vertical-align: top;\n",
       "    }\n",
       "</style>\n",
       "<table border=\"1\" class=\"dataframe\">\n",
       "  <thead>\n",
       "    <tr style=\"text-align: right;\">\n",
       "      <th></th>\n",
       "      <th>BookID</th>\n",
       "      <th>BookTitle</th>\n",
       "      <th>UserID</th>\n",
       "      <th>Score</th>\n",
       "    </tr>\n",
       "  </thead>\n",
       "  <tbody>\n",
       "    <tr>\n",
       "      <th>6099</th>\n",
       "      <td>B000OX8HJO</td>\n",
       "      <td>trust no one</td>\n",
       "      <td>A3KKFG3TA9IO8X</td>\n",
       "      <td>5.0</td>\n",
       "    </tr>\n",
       "    <tr>\n",
       "      <th>8349</th>\n",
       "      <td>1563331586</td>\n",
       "      <td>chains</td>\n",
       "      <td>A3EX36SNRYD5VL</td>\n",
       "      <td>3.0</td>\n",
       "    </tr>\n",
       "    <tr>\n",
       "      <th>11895</th>\n",
       "      <td>B000N1ZWS6</td>\n",
       "      <td>a study in scarlet and the sign of four</td>\n",
       "      <td>A3MV1KKHX51FYT</td>\n",
       "      <td>5.0</td>\n",
       "    </tr>\n",
       "    <tr>\n",
       "      <th>12730</th>\n",
       "      <td>0451210530</td>\n",
       "      <td>a rip in heaven</td>\n",
       "      <td>A1IMO4Q54CHVH5</td>\n",
       "      <td>4.0</td>\n",
       "    </tr>\n",
       "    <tr>\n",
       "      <th>12731</th>\n",
       "      <td>0451210530</td>\n",
       "      <td>a rip in heaven</td>\n",
       "      <td>A24VKWUKXWBWLV</td>\n",
       "      <td>3.0</td>\n",
       "    </tr>\n",
       "  </tbody>\n",
       "</table>\n",
       "</div>"
      ],
      "text/plain": [
       "            BookID                                BookTitle           UserID  \\\n",
       "6099    B000OX8HJO                             trust no one   A3KKFG3TA9IO8X   \n",
       "8349    1563331586                                   chains   A3EX36SNRYD5VL   \n",
       "11895   B000N1ZWS6  a study in scarlet and the sign of four   A3MV1KKHX51FYT   \n",
       "12730   0451210530                          a rip in heaven   A1IMO4Q54CHVH5   \n",
       "12731   0451210530                          a rip in heaven   A24VKWUKXWBWLV   \n",
       "\n",
       "       Score  \n",
       "6099     5.0  \n",
       "8349     3.0  \n",
       "11895    5.0  \n",
       "12730    4.0  \n",
       "12731    3.0  "
      ]
     },
     "execution_count": 11,
     "metadata": {},
     "output_type": "execute_result"
    },
    {
     "name": "stdout",
     "output_type": "stream",
     "text": [
      "time: 12.1 s\n"
     ]
    }
   ],
   "source": [
    "books_amazon_whole = books_amazon_whole[books_amazon_whole['BookTitle'].isin(common_books)]\n",
    "books_amazon_whole.head()"
   ]
  },
  {
   "cell_type": "code",
   "execution_count": 111,
   "metadata": {},
   "outputs": [
    {
     "data": {
      "text/html": [
       "<div>\n",
       "<style>\n",
       "    .dataframe thead tr:only-child th {\n",
       "        text-align: right;\n",
       "    }\n",
       "\n",
       "    .dataframe thead th {\n",
       "        text-align: left;\n",
       "    }\n",
       "\n",
       "    .dataframe tbody tr th {\n",
       "        vertical-align: top;\n",
       "    }\n",
       "</style>\n",
       "<table border=\"1\" class=\"dataframe\">\n",
       "  <thead>\n",
       "    <tr style=\"text-align: right;\">\n",
       "      <th>BookTitle</th>\n",
       "      <th>13 for luck</th>\n",
       "      <th>15 seconds</th>\n",
       "      <th>24 hours</th>\n",
       "      <th>a cast of killers</th>\n",
       "      <th>a clockwork orange</th>\n",
       "      <th>a coffin for dimitrios</th>\n",
       "      <th>a cry in the night</th>\n",
       "      <th>a dark-adapted eye</th>\n",
       "      <th>a demon in my view</th>\n",
       "      <th>a discount for death</th>\n",
       "      <th>...</th>\n",
       "      <th>widow's web</th>\n",
       "      <th>wildfire at midnight</th>\n",
       "      <th>windmills of the gods</th>\n",
       "      <th>windy city blues</th>\n",
       "      <th>wired</th>\n",
       "      <th>with murderous intent</th>\n",
       "      <th>woman on the run</th>\n",
       "      <th>worm</th>\n",
       "      <th>yellow-dog contract</th>\n",
       "      <th>you belong to me</th>\n",
       "    </tr>\n",
       "    <tr>\n",
       "      <th>UserID</th>\n",
       "      <th></th>\n",
       "      <th></th>\n",
       "      <th></th>\n",
       "      <th></th>\n",
       "      <th></th>\n",
       "      <th></th>\n",
       "      <th></th>\n",
       "      <th></th>\n",
       "      <th></th>\n",
       "      <th></th>\n",
       "      <th></th>\n",
       "      <th></th>\n",
       "      <th></th>\n",
       "      <th></th>\n",
       "      <th></th>\n",
       "      <th></th>\n",
       "      <th></th>\n",
       "      <th></th>\n",
       "      <th></th>\n",
       "      <th></th>\n",
       "      <th></th>\n",
       "    </tr>\n",
       "  </thead>\n",
       "  <tbody>\n",
       "    <tr>\n",
       "      <th>A00362222MRK7M4ZLBX60</th>\n",
       "      <td>NaN</td>\n",
       "      <td>NaN</td>\n",
       "      <td>NaN</td>\n",
       "      <td>NaN</td>\n",
       "      <td>NaN</td>\n",
       "      <td>NaN</td>\n",
       "      <td>NaN</td>\n",
       "      <td>NaN</td>\n",
       "      <td>NaN</td>\n",
       "      <td>NaN</td>\n",
       "      <td>...</td>\n",
       "      <td>NaN</td>\n",
       "      <td>NaN</td>\n",
       "      <td>NaN</td>\n",
       "      <td>NaN</td>\n",
       "      <td>NaN</td>\n",
       "      <td>NaN</td>\n",
       "      <td>NaN</td>\n",
       "      <td>NaN</td>\n",
       "      <td>NaN</td>\n",
       "      <td>NaN</td>\n",
       "    </tr>\n",
       "    <tr>\n",
       "      <th>A00540411RKGTDNU543WS</th>\n",
       "      <td>NaN</td>\n",
       "      <td>NaN</td>\n",
       "      <td>NaN</td>\n",
       "      <td>NaN</td>\n",
       "      <td>NaN</td>\n",
       "      <td>NaN</td>\n",
       "      <td>NaN</td>\n",
       "      <td>NaN</td>\n",
       "      <td>NaN</td>\n",
       "      <td>NaN</td>\n",
       "      <td>...</td>\n",
       "      <td>NaN</td>\n",
       "      <td>NaN</td>\n",
       "      <td>NaN</td>\n",
       "      <td>NaN</td>\n",
       "      <td>NaN</td>\n",
       "      <td>NaN</td>\n",
       "      <td>NaN</td>\n",
       "      <td>NaN</td>\n",
       "      <td>NaN</td>\n",
       "      <td>NaN</td>\n",
       "    </tr>\n",
       "    <tr>\n",
       "      <th>A00542573UHMR8GSAT0ZG</th>\n",
       "      <td>NaN</td>\n",
       "      <td>NaN</td>\n",
       "      <td>NaN</td>\n",
       "      <td>NaN</td>\n",
       "      <td>NaN</td>\n",
       "      <td>NaN</td>\n",
       "      <td>NaN</td>\n",
       "      <td>NaN</td>\n",
       "      <td>NaN</td>\n",
       "      <td>NaN</td>\n",
       "      <td>...</td>\n",
       "      <td>NaN</td>\n",
       "      <td>NaN</td>\n",
       "      <td>NaN</td>\n",
       "      <td>NaN</td>\n",
       "      <td>NaN</td>\n",
       "      <td>NaN</td>\n",
       "      <td>NaN</td>\n",
       "      <td>NaN</td>\n",
       "      <td>NaN</td>\n",
       "      <td>NaN</td>\n",
       "    </tr>\n",
       "    <tr>\n",
       "      <th>A00878773S2MNB00COHKV</th>\n",
       "      <td>NaN</td>\n",
       "      <td>NaN</td>\n",
       "      <td>NaN</td>\n",
       "      <td>NaN</td>\n",
       "      <td>NaN</td>\n",
       "      <td>NaN</td>\n",
       "      <td>NaN</td>\n",
       "      <td>NaN</td>\n",
       "      <td>NaN</td>\n",
       "      <td>NaN</td>\n",
       "      <td>...</td>\n",
       "      <td>NaN</td>\n",
       "      <td>NaN</td>\n",
       "      <td>NaN</td>\n",
       "      <td>NaN</td>\n",
       "      <td>NaN</td>\n",
       "      <td>NaN</td>\n",
       "      <td>NaN</td>\n",
       "      <td>NaN</td>\n",
       "      <td>NaN</td>\n",
       "      <td>NaN</td>\n",
       "    </tr>\n",
       "    <tr>\n",
       "      <th>A0134066213WYQXLTVGYT</th>\n",
       "      <td>NaN</td>\n",
       "      <td>NaN</td>\n",
       "      <td>NaN</td>\n",
       "      <td>NaN</td>\n",
       "      <td>NaN</td>\n",
       "      <td>NaN</td>\n",
       "      <td>NaN</td>\n",
       "      <td>NaN</td>\n",
       "      <td>NaN</td>\n",
       "      <td>NaN</td>\n",
       "      <td>...</td>\n",
       "      <td>NaN</td>\n",
       "      <td>NaN</td>\n",
       "      <td>NaN</td>\n",
       "      <td>NaN</td>\n",
       "      <td>NaN</td>\n",
       "      <td>NaN</td>\n",
       "      <td>NaN</td>\n",
       "      <td>NaN</td>\n",
       "      <td>NaN</td>\n",
       "      <td>NaN</td>\n",
       "    </tr>\n",
       "  </tbody>\n",
       "</table>\n",
       "<p>5 rows × 1200 columns</p>\n",
       "</div>"
      ],
      "text/plain": [
       "BookTitle               13 for luck  15 seconds  24 hours  a cast of killers  \\\n",
       "UserID                                                                         \n",
       " A00362222MRK7M4ZLBX60          NaN         NaN       NaN                NaN   \n",
       " A00540411RKGTDNU543WS          NaN         NaN       NaN                NaN   \n",
       " A00542573UHMR8GSAT0ZG          NaN         NaN       NaN                NaN   \n",
       " A00878773S2MNB00COHKV          NaN         NaN       NaN                NaN   \n",
       " A0134066213WYQXLTVGYT          NaN         NaN       NaN                NaN   \n",
       "\n",
       "BookTitle               a clockwork orange  a coffin for dimitrios  \\\n",
       "UserID                                                               \n",
       " A00362222MRK7M4ZLBX60                 NaN                     NaN   \n",
       " A00540411RKGTDNU543WS                 NaN                     NaN   \n",
       " A00542573UHMR8GSAT0ZG                 NaN                     NaN   \n",
       " A00878773S2MNB00COHKV                 NaN                     NaN   \n",
       " A0134066213WYQXLTVGYT                 NaN                     NaN   \n",
       "\n",
       "BookTitle               a cry in the night  a dark-adapted eye  \\\n",
       "UserID                                                           \n",
       " A00362222MRK7M4ZLBX60                 NaN                 NaN   \n",
       " A00540411RKGTDNU543WS                 NaN                 NaN   \n",
       " A00542573UHMR8GSAT0ZG                 NaN                 NaN   \n",
       " A00878773S2MNB00COHKV                 NaN                 NaN   \n",
       " A0134066213WYQXLTVGYT                 NaN                 NaN   \n",
       "\n",
       "BookTitle               a demon in my view  a discount for death  \\\n",
       "UserID                                                             \n",
       " A00362222MRK7M4ZLBX60                 NaN                   NaN   \n",
       " A00540411RKGTDNU543WS                 NaN                   NaN   \n",
       " A00542573UHMR8GSAT0ZG                 NaN                   NaN   \n",
       " A00878773S2MNB00COHKV                 NaN                   NaN   \n",
       " A0134066213WYQXLTVGYT                 NaN                   NaN   \n",
       "\n",
       "BookTitle                     ...         widow's web  wildfire at midnight  \\\n",
       "UserID                        ...                                             \n",
       " A00362222MRK7M4ZLBX60        ...                 NaN                   NaN   \n",
       " A00540411RKGTDNU543WS        ...                 NaN                   NaN   \n",
       " A00542573UHMR8GSAT0ZG        ...                 NaN                   NaN   \n",
       " A00878773S2MNB00COHKV        ...                 NaN                   NaN   \n",
       " A0134066213WYQXLTVGYT        ...                 NaN                   NaN   \n",
       "\n",
       "BookTitle               windmills of the gods  windy city blues  wired  \\\n",
       "UserID                                                                   \n",
       " A00362222MRK7M4ZLBX60                    NaN               NaN    NaN   \n",
       " A00540411RKGTDNU543WS                    NaN               NaN    NaN   \n",
       " A00542573UHMR8GSAT0ZG                    NaN               NaN    NaN   \n",
       " A00878773S2MNB00COHKV                    NaN               NaN    NaN   \n",
       " A0134066213WYQXLTVGYT                    NaN               NaN    NaN   \n",
       "\n",
       "BookTitle               with murderous intent  woman on the run  worm  \\\n",
       "UserID                                                                  \n",
       " A00362222MRK7M4ZLBX60                    NaN               NaN   NaN   \n",
       " A00540411RKGTDNU543WS                    NaN               NaN   NaN   \n",
       " A00542573UHMR8GSAT0ZG                    NaN               NaN   NaN   \n",
       " A00878773S2MNB00COHKV                    NaN               NaN   NaN   \n",
       " A0134066213WYQXLTVGYT                    NaN               NaN   NaN   \n",
       "\n",
       "BookTitle               yellow-dog contract  you belong to me  \n",
       "UserID                                                         \n",
       " A00362222MRK7M4ZLBX60                  NaN               NaN  \n",
       " A00540411RKGTDNU543WS                  NaN               NaN  \n",
       " A00542573UHMR8GSAT0ZG                  NaN               NaN  \n",
       " A00878773S2MNB00COHKV                  NaN               NaN  \n",
       " A0134066213WYQXLTVGYT                  NaN               NaN  \n",
       "\n",
       "[5 rows x 1200 columns]"
      ]
     },
     "execution_count": 111,
     "metadata": {},
     "output_type": "execute_result"
    },
    {
     "name": "stdout",
     "output_type": "stream",
     "text": [
      "time: 2.37 s\n"
     ]
    }
   ],
   "source": [
    "books_amazon_whole.drop_duplicates(subset = ['BookTitle', 'UserID'], inplace = True)\n",
    "user_item_df = pd.pivot_table(data = books_amazon_whole, index = 'UserID', columns = 'BookTitle', values = 'Score')\n",
    "user_item_df.head()"
   ]
  },
  {
   "cell_type": "code",
   "execution_count": 112,
   "metadata": {},
   "outputs": [
    {
     "name": "stdout",
     "output_type": "stream",
     "text": [
      "time: 2.95 s\n"
     ]
    }
   ],
   "source": [
    "user_item_df.fillna(0, inplace=True)\n",
    "new_book_names = user_item_df.columns"
   ]
  },
  {
   "cell_type": "markdown",
   "metadata": {},
   "source": [
    "### In practise, the user-item matrices are very sparse. Following two plots help in understanding the sparsity of the data in this case.\n",
    "\n",
    "### Ratings per user (i.e. number of books rated by a user) is very less. Most users rated only 1 book. So, user-user model may not result in a good recommendation system."
   ]
  },
  {
   "cell_type": "code",
   "execution_count": null,
   "metadata": {
    "collapsed": true
   },
   "outputs": [],
   "source": [
    "user_data = [np.count_nonzero(user_item_df.iloc[i,:]) for i in range(user_item_df.shape[0])]\n",
    "book_data = [np.count_nonzero(user_item_df.iloc[:,i]) for i in range(user_item_df.shape[1])]"
   ]
  },
  {
   "cell_type": "code",
   "execution_count": 122,
   "metadata": {},
   "outputs": [
    {
     "data": {
      "image/png": "[encoded data removed]",
      "text/plain": [
       "<matplotlib.figure.Figure at 0x2703ecce828>"
      ]
     },
     "metadata": {},
     "output_type": "display_data"
    },
    {
     "name": "stdout",
     "output_type": "stream",
     "text": [
      "time: 438 ms\n"
     ]
    }
   ],
   "source": [
    "fig, (ax1, ax2) = plt.subplots(nrows = 1, ncols = 2, figsize = (14,6))\n",
    "ax1.hist(user_data, bins = range(0,15,1))\n",
    "ax2.hist(book_data, bins = range(0, 2000,50))\n",
    "\n",
    "# ax1.hist(np.log(user_data))\n",
    "# ax2.hist(np.log(book_data))\n",
    "\n",
    "ax1.set_title('Distribution of User-Ratings', fontsize = 15)\n",
    "ax2.set_title('Distribution of Book-Ratings', fontsize = 15)\n",
    "\n",
    "ax1.set_xlabel('#Books rated by user', fontsize = 15)\n",
    "ax2.set_xlabel('#Ratings a book received', fontsize = 15)\n",
    "\n",
    "ax1.set_ylabel('#Users', fontsize = 15)\n",
    "ax2.set_ylabel('#Books', fontsize = 15)\n",
    "\n",
    "plt.show()"
   ]
  },
  {
   "cell_type": "markdown",
   "metadata": {},
   "source": [
    "### Item-item recommendation system:"
   ]
  },
  {
   "cell_type": "code",
   "execution_count": 14,
   "metadata": {},
   "outputs": [
    {
     "data": {
      "text/plain": [
       "<101864x1200 sparse matrix of type '<class 'numpy.float64'>'\n",
       "\twith 142041 stored elements in Compressed Sparse Row format>"
      ]
     },
     "execution_count": 14,
     "metadata": {},
     "output_type": "execute_result"
    },
    {
     "name": "stdout",
     "output_type": "stream",
     "text": [
      "time: 906 ms\n"
     ]
    }
   ],
   "source": [
    "user_item_mat = csr_matrix(user_item_df)"
   ]
  },
  {
   "cell_type": "code",
   "execution_count": 67,
   "metadata": {},
   "outputs": [
    {
     "data": {
      "text/plain": [
       "(1200, 1200)"
      ]
     },
     "execution_count": 67,
     "metadata": {},
     "output_type": "execute_result"
    },
    {
     "name": "stdout",
     "output_type": "stream",
     "text": [
      "time: 35.6 ms\n"
     ]
    }
   ],
   "source": [
    "book_similarity_mat = cosine_similarity(user_item_mat.transpose(), dense_output = False)\n",
    "book_similarity_mat = book_similarity_mat.toarray()\n",
    "book_similarity_mat.shape"
   ]
  },
  {
   "cell_type": "markdown",
   "metadata": {},
   "source": [
    "### Make recommendations (item-item similarity):"
   ]
  },
  {
   "cell_type": "code",
   "execution_count": 108,
   "metadata": {},
   "outputs": [
    {
     "name": "stdout",
     "output_type": "stream",
     "text": [
      "Target book:  the hound of the baskervilles\n"
     ]
    },
    {
     "data": {
      "text/html": [
       "<div>\n",
       "<style>\n",
       "    .dataframe thead tr:only-child th {\n",
       "        text-align: right;\n",
       "    }\n",
       "\n",
       "    .dataframe thead th {\n",
       "        text-align: left;\n",
       "    }\n",
       "\n",
       "    .dataframe tbody tr th {\n",
       "        vertical-align: top;\n",
       "    }\n",
       "</style>\n",
       "<table border=\"1\" class=\"dataframe\">\n",
       "  <thead>\n",
       "    <tr style=\"text-align: right;\">\n",
       "      <th></th>\n",
       "      <th>BookIndex</th>\n",
       "      <th>BookTitle</th>\n",
       "    </tr>\n",
       "  </thead>\n",
       "  <tbody>\n",
       "    <tr>\n",
       "      <th>0</th>\n",
       "      <td>900</td>\n",
       "      <td>the hound of the baskervilles</td>\n",
       "    </tr>\n",
       "    <tr>\n",
       "      <th>1</th>\n",
       "      <td>35</td>\n",
       "      <td>a study in scarlet</td>\n",
       "    </tr>\n",
       "    <tr>\n",
       "      <th>2</th>\n",
       "      <td>1018</td>\n",
       "      <td>the return of sherlock holmes</td>\n",
       "    </tr>\n",
       "    <tr>\n",
       "      <th>3</th>\n",
       "      <td>943</td>\n",
       "      <td>the maltese falcon</td>\n",
       "    </tr>\n",
       "    <tr>\n",
       "      <th>4</th>\n",
       "      <td>1087</td>\n",
       "      <td>the valley of fear</td>\n",
       "    </tr>\n",
       "    <tr>\n",
       "      <th>5</th>\n",
       "      <td>774</td>\n",
       "      <td>the case-book of sherlock holmes</td>\n",
       "    </tr>\n",
       "    <tr>\n",
       "      <th>6</th>\n",
       "      <td>1040</td>\n",
       "      <td>the sign of four</td>\n",
       "    </tr>\n",
       "    <tr>\n",
       "      <th>7</th>\n",
       "      <td>645</td>\n",
       "      <td>rumpole of the bailey</td>\n",
       "    </tr>\n",
       "    <tr>\n",
       "      <th>8</th>\n",
       "      <td>263</td>\n",
       "      <td>double indemnity</td>\n",
       "    </tr>\n",
       "    <tr>\n",
       "      <th>9</th>\n",
       "      <td>764</td>\n",
       "      <td>the breaker</td>\n",
       "    </tr>\n",
       "    <tr>\n",
       "      <th>10</th>\n",
       "      <td>964</td>\n",
       "      <td>the murders in the rue morgue</td>\n",
       "    </tr>\n",
       "    <tr>\n",
       "      <th>11</th>\n",
       "      <td>635</td>\n",
       "      <td>river city</td>\n",
       "    </tr>\n",
       "    <tr>\n",
       "      <th>12</th>\n",
       "      <td>36</td>\n",
       "      <td>a study in scarlet and the sign of four</td>\n",
       "    </tr>\n",
       "    <tr>\n",
       "      <th>13</th>\n",
       "      <td>1008</td>\n",
       "      <td>the purloined letter</td>\n",
       "    </tr>\n",
       "    <tr>\n",
       "      <th>14</th>\n",
       "      <td>649</td>\n",
       "      <td>russian dolls</td>\n",
       "    </tr>\n",
       "    <tr>\n",
       "      <th>15</th>\n",
       "      <td>721</td>\n",
       "      <td>taking lives</td>\n",
       "    </tr>\n",
       "    <tr>\n",
       "      <th>16</th>\n",
       "      <td>745</td>\n",
       "      <td>the basement</td>\n",
       "    </tr>\n",
       "    <tr>\n",
       "      <th>17</th>\n",
       "      <td>1001</td>\n",
       "      <td>the postman always rings twice</td>\n",
       "    </tr>\n",
       "    <tr>\n",
       "      <th>18</th>\n",
       "      <td>1030</td>\n",
       "      <td>the secret agent</td>\n",
       "    </tr>\n",
       "    <tr>\n",
       "      <th>19</th>\n",
       "      <td>100</td>\n",
       "      <td>billy bathgate</td>\n",
       "    </tr>\n",
       "  </tbody>\n",
       "</table>\n",
       "</div>"
      ],
      "text/plain": [
       "    BookIndex                                BookTitle\n",
       "0         900            the hound of the baskervilles\n",
       "1          35                       a study in scarlet\n",
       "2        1018            the return of sherlock holmes\n",
       "3         943                       the maltese falcon\n",
       "4        1087                       the valley of fear\n",
       "5         774         the case-book of sherlock holmes\n",
       "6        1040                         the sign of four\n",
       "7         645                    rumpole of the bailey\n",
       "8         263                         double indemnity\n",
       "9         764                              the breaker\n",
       "10        964            the murders in the rue morgue\n",
       "11        635                               river city\n",
       "12         36  a study in scarlet and the sign of four\n",
       "13       1008                     the purloined letter\n",
       "14        649                            russian dolls\n",
       "15        721                             taking lives\n",
       "16        745                             the basement\n",
       "17       1001           the postman always rings twice\n",
       "18       1030                         the secret agent\n",
       "19        100                           billy bathgate"
      ]
     },
     "execution_count": 108,
     "metadata": {},
     "output_type": "execute_result"
    },
    {
     "name": "stdout",
     "output_type": "stream",
     "text": [
      "time: 15.5 ms\n"
     ]
    }
   ],
   "source": [
    "def most_similar_books(book_ind, book_names):\n",
    "    \n",
    "    most_sim_books = np.argsort(book_similarity_mat[book_ind,:])[::-1][0:20]\n",
    "    recommended_books = [book_names[i] for i in most_sim_books]\n",
    "    \n",
    "    recommendation_df = pd.DataFrame({'BookIndex': most_sim_books, 'BookTitle': recommended_books})\n",
    "    \n",
    "    print ('Target book: ', book_names[book_ind])\n",
    "    \n",
    "    return recommendation_df\n",
    "\n",
    "most_similar_books(900, new_book_names)  ## Try: 900, 527"
   ]
  },
  {
   "cell_type": "code",
   "execution_count": 109,
   "metadata": {},
   "outputs": [
    {
     "name": "stdout",
     "output_type": "stream",
     "text": [
      "Target book:  mystic river\n"
     ]
    },
    {
     "data": {
      "text/html": [
       "<div>\n",
       "<style>\n",
       "    .dataframe thead tr:only-child th {\n",
       "        text-align: right;\n",
       "    }\n",
       "\n",
       "    .dataframe thead th {\n",
       "        text-align: left;\n",
       "    }\n",
       "\n",
       "    .dataframe tbody tr th {\n",
       "        vertical-align: top;\n",
       "    }\n",
       "</style>\n",
       "<table border=\"1\" class=\"dataframe\">\n",
       "  <thead>\n",
       "    <tr style=\"text-align: right;\">\n",
       "      <th></th>\n",
       "      <th>BookIndex</th>\n",
       "      <th>BookTitle</th>\n",
       "    </tr>\n",
       "  </thead>\n",
       "  <tbody>\n",
       "    <tr>\n",
       "      <th>0</th>\n",
       "      <td>527</td>\n",
       "      <td>mystic river</td>\n",
       "    </tr>\n",
       "    <tr>\n",
       "      <th>1</th>\n",
       "      <td>675</td>\n",
       "      <td>shutter island</td>\n",
       "    </tr>\n",
       "    <tr>\n",
       "      <th>2</th>\n",
       "      <td>216</td>\n",
       "      <td>dead sleep</td>\n",
       "    </tr>\n",
       "    <tr>\n",
       "      <th>3</th>\n",
       "      <td>386</td>\n",
       "      <td>hostage</td>\n",
       "    </tr>\n",
       "    <tr>\n",
       "      <th>4</th>\n",
       "      <td>547</td>\n",
       "      <td>no second chance</td>\n",
       "    </tr>\n",
       "    <tr>\n",
       "      <th>5</th>\n",
       "      <td>762</td>\n",
       "      <td>the bottoms</td>\n",
       "    </tr>\n",
       "    <tr>\n",
       "      <th>6</th>\n",
       "      <td>728</td>\n",
       "      <td>tell no one</td>\n",
       "    </tr>\n",
       "    <tr>\n",
       "      <th>7</th>\n",
       "      <td>2</td>\n",
       "      <td>24 hours</td>\n",
       "    </tr>\n",
       "    <tr>\n",
       "      <th>8</th>\n",
       "      <td>86</td>\n",
       "      <td>basket case</td>\n",
       "    </tr>\n",
       "    <tr>\n",
       "      <th>9</th>\n",
       "      <td>757</td>\n",
       "      <td>the blue nowhere</td>\n",
       "    </tr>\n",
       "    <tr>\n",
       "      <th>10</th>\n",
       "      <td>462</td>\n",
       "      <td>long time no see</td>\n",
       "    </tr>\n",
       "    <tr>\n",
       "      <th>11</th>\n",
       "      <td>155</td>\n",
       "      <td>chasing the dime</td>\n",
       "    </tr>\n",
       "    <tr>\n",
       "      <th>12</th>\n",
       "      <td>227</td>\n",
       "      <td>death benefits</td>\n",
       "    </tr>\n",
       "    <tr>\n",
       "      <th>13</th>\n",
       "      <td>178</td>\n",
       "      <td>company man</td>\n",
       "    </tr>\n",
       "    <tr>\n",
       "      <th>14</th>\n",
       "      <td>355</td>\n",
       "      <td>gone for good</td>\n",
       "    </tr>\n",
       "    <tr>\n",
       "      <th>15</th>\n",
       "      <td>1038</td>\n",
       "      <td>the shape of snakes</td>\n",
       "    </tr>\n",
       "    <tr>\n",
       "      <th>16</th>\n",
       "      <td>244</td>\n",
       "      <td>derailed</td>\n",
       "    </tr>\n",
       "    <tr>\n",
       "      <th>17</th>\n",
       "      <td>609</td>\n",
       "      <td>pursuit</td>\n",
       "    </tr>\n",
       "    <tr>\n",
       "      <th>18</th>\n",
       "      <td>246</td>\n",
       "      <td>deviant ways</td>\n",
       "    </tr>\n",
       "    <tr>\n",
       "      <th>19</th>\n",
       "      <td>677</td>\n",
       "      <td>silent joe</td>\n",
       "    </tr>\n",
       "  </tbody>\n",
       "</table>\n",
       "</div>"
      ],
      "text/plain": [
       "    BookIndex            BookTitle\n",
       "0         527         mystic river\n",
       "1         675       shutter island\n",
       "2         216           dead sleep\n",
       "3         386              hostage\n",
       "4         547     no second chance\n",
       "5         762          the bottoms\n",
       "6         728          tell no one\n",
       "7           2             24 hours\n",
       "8          86          basket case\n",
       "9         757     the blue nowhere\n",
       "10        462     long time no see\n",
       "11        155     chasing the dime\n",
       "12        227       death benefits\n",
       "13        178          company man\n",
       "14        355        gone for good\n",
       "15       1038  the shape of snakes\n",
       "16        244             derailed\n",
       "17        609              pursuit\n",
       "18        246         deviant ways\n",
       "19        677           silent joe"
      ]
     },
     "execution_count": 109,
     "metadata": {},
     "output_type": "execute_result"
    },
    {
     "name": "stdout",
     "output_type": "stream",
     "text": [
      "time: 15.5 ms\n"
     ]
    }
   ],
   "source": [
    "most_similar_books(book_ind = 527, book_names = new_book_names)"
   ]
  },
  {
   "cell_type": "markdown",
   "metadata": {},
   "source": [
    "### Currently developing an evaluation metric to evaluate model's performance"
   ]
  },
  {
   "cell_type": "code",
   "execution_count": null,
   "metadata": {
    "collapsed": true
   },
   "outputs": [],
   "source": []
  }
 ],
 "metadata": {
  "kernelspec": {
   "display_name": "Python 3",
   "language": "python",
   "name": "python3"
  },
  "language_info": {
   "codemirror_mode": {
    "name": "ipython",
    "version": 3
   },
   "file_extension": ".py",
   "mimetype": "text/x-python",
   "name": "python",
   "nbconvert_exporter": "python",
   "pygments_lexer": "ipython3",
   "version": "3.6.3"
  }
 },
 "nbformat": 4,
 "nbformat_minor": 2
}
